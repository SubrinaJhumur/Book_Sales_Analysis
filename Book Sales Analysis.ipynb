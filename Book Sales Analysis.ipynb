{
 "cells": [
  {
   "cell_type": "code",
   "execution_count": 1,
   "id": "3f2b7a4d-41aa-4a5e-881f-7347d626cb35",
   "metadata": {},
   "outputs": [],
   "source": [
    "import pandas as pd\n",
    "import numpy as np\n",
    "import matplotlib.pyplot as plt\n",
    "import seaborn as sns"
   ]
  },
  {
   "cell_type": "code",
   "execution_count": 2,
   "id": "f4538612-9ed1-41d3-8e5f-4a044ca08216",
   "metadata": {},
   "outputs": [],
   "source": [
    "data=pd.read_csv(r'C:\\Users\\User\\Desktop\\data_hub\\Books_Data_Clean.csv')"
   ]
  },
  {
   "cell_type": "code",
   "execution_count": 5,
   "id": "e8ac0e30-5a59-4104-9d4a-bead10d5a24f",
   "metadata": {},
   "outputs": [
    {
     "data": {
      "text/html": [
       "<div>\n",
       "<style scoped>\n",
       "    .dataframe tbody tr th:only-of-type {\n",
       "        vertical-align: middle;\n",
       "    }\n",
       "\n",
       "    .dataframe tbody tr th {\n",
       "        vertical-align: top;\n",
       "    }\n",
       "\n",
       "    .dataframe thead th {\n",
       "        text-align: right;\n",
       "    }\n",
       "</style>\n",
       "<table border=\"1\" class=\"dataframe\">\n",
       "  <thead>\n",
       "    <tr style=\"text-align: right;\">\n",
       "      <th></th>\n",
       "      <th>index</th>\n",
       "      <th>Publishing Year</th>\n",
       "      <th>Book Name</th>\n",
       "      <th>Author</th>\n",
       "      <th>language_code</th>\n",
       "      <th>Author_Rating</th>\n",
       "      <th>Book_average_rating</th>\n",
       "      <th>Book_ratings_count</th>\n",
       "      <th>genre</th>\n",
       "      <th>gross sales</th>\n",
       "      <th>publisher revenue</th>\n",
       "      <th>sale price</th>\n",
       "      <th>sales rank</th>\n",
       "      <th>Publisher</th>\n",
       "      <th>units sold</th>\n",
       "    </tr>\n",
       "  </thead>\n",
       "  <tbody>\n",
       "    <tr>\n",
       "      <th>0</th>\n",
       "      <td>0</td>\n",
       "      <td>1975.0</td>\n",
       "      <td>Beowulf</td>\n",
       "      <td>Unknown, Seamus Heaney</td>\n",
       "      <td>en-US</td>\n",
       "      <td>Novice</td>\n",
       "      <td>3.42</td>\n",
       "      <td>155903</td>\n",
       "      <td>genre fiction</td>\n",
       "      <td>34160.0</td>\n",
       "      <td>20496.0</td>\n",
       "      <td>4.88</td>\n",
       "      <td>1</td>\n",
       "      <td>HarperCollins Publishers</td>\n",
       "      <td>7000</td>\n",
       "    </tr>\n",
       "    <tr>\n",
       "      <th>1</th>\n",
       "      <td>1</td>\n",
       "      <td>1987.0</td>\n",
       "      <td>Batman: Year One</td>\n",
       "      <td>Frank Miller, David Mazzucchelli, Richmond Lew...</td>\n",
       "      <td>eng</td>\n",
       "      <td>Intermediate</td>\n",
       "      <td>4.23</td>\n",
       "      <td>145267</td>\n",
       "      <td>genre fiction</td>\n",
       "      <td>12437.5</td>\n",
       "      <td>7462.5</td>\n",
       "      <td>1.99</td>\n",
       "      <td>2</td>\n",
       "      <td>HarperCollins Publishers</td>\n",
       "      <td>6250</td>\n",
       "    </tr>\n",
       "    <tr>\n",
       "      <th>2</th>\n",
       "      <td>2</td>\n",
       "      <td>2015.0</td>\n",
       "      <td>Go Set a Watchman</td>\n",
       "      <td>Harper Lee</td>\n",
       "      <td>eng</td>\n",
       "      <td>Novice</td>\n",
       "      <td>3.31</td>\n",
       "      <td>138669</td>\n",
       "      <td>genre fiction</td>\n",
       "      <td>47795.0</td>\n",
       "      <td>28677.0</td>\n",
       "      <td>8.69</td>\n",
       "      <td>3</td>\n",
       "      <td>Amazon Digital Services,  Inc.</td>\n",
       "      <td>5500</td>\n",
       "    </tr>\n",
       "    <tr>\n",
       "      <th>3</th>\n",
       "      <td>3</td>\n",
       "      <td>2008.0</td>\n",
       "      <td>When You Are Engulfed in Flames</td>\n",
       "      <td>David Sedaris</td>\n",
       "      <td>en-US</td>\n",
       "      <td>Intermediate</td>\n",
       "      <td>4.04</td>\n",
       "      <td>150898</td>\n",
       "      <td>fiction</td>\n",
       "      <td>41250.0</td>\n",
       "      <td>24750.0</td>\n",
       "      <td>7.50</td>\n",
       "      <td>3</td>\n",
       "      <td>Hachette Book Group</td>\n",
       "      <td>5500</td>\n",
       "    </tr>\n",
       "    <tr>\n",
       "      <th>4</th>\n",
       "      <td>4</td>\n",
       "      <td>2011.0</td>\n",
       "      <td>Daughter of Smoke &amp; Bone</td>\n",
       "      <td>Laini Taylor</td>\n",
       "      <td>eng</td>\n",
       "      <td>Intermediate</td>\n",
       "      <td>4.04</td>\n",
       "      <td>198283</td>\n",
       "      <td>genre fiction</td>\n",
       "      <td>37952.5</td>\n",
       "      <td>22771.5</td>\n",
       "      <td>7.99</td>\n",
       "      <td>4</td>\n",
       "      <td>Penguin Group (USA) LLC</td>\n",
       "      <td>4750</td>\n",
       "    </tr>\n",
       "  </tbody>\n",
       "</table>\n",
       "</div>"
      ],
      "text/plain": [
       "   index  Publishing Year                        Book Name  \\\n",
       "0      0           1975.0                          Beowulf   \n",
       "1      1           1987.0                 Batman: Year One   \n",
       "2      2           2015.0                Go Set a Watchman   \n",
       "3      3           2008.0  When You Are Engulfed in Flames   \n",
       "4      4           2011.0         Daughter of Smoke & Bone   \n",
       "\n",
       "                                              Author language_code  \\\n",
       "0                             Unknown, Seamus Heaney         en-US   \n",
       "1  Frank Miller, David Mazzucchelli, Richmond Lew...           eng   \n",
       "2                                         Harper Lee           eng   \n",
       "3                                      David Sedaris         en-US   \n",
       "4                                       Laini Taylor           eng   \n",
       "\n",
       "  Author_Rating  Book_average_rating  Book_ratings_count          genre  \\\n",
       "0        Novice                 3.42              155903  genre fiction   \n",
       "1  Intermediate                 4.23              145267  genre fiction   \n",
       "2        Novice                 3.31              138669  genre fiction   \n",
       "3  Intermediate                 4.04              150898        fiction   \n",
       "4  Intermediate                 4.04              198283  genre fiction   \n",
       "\n",
       "   gross sales  publisher revenue  sale price  sales rank  \\\n",
       "0      34160.0            20496.0        4.88           1   \n",
       "1      12437.5             7462.5        1.99           2   \n",
       "2      47795.0            28677.0        8.69           3   \n",
       "3      41250.0            24750.0        7.50           3   \n",
       "4      37952.5            22771.5        7.99           4   \n",
       "\n",
       "                       Publisher   units sold  \n",
       "0        HarperCollins Publishers        7000  \n",
       "1        HarperCollins Publishers        6250  \n",
       "2  Amazon Digital Services,  Inc.        5500  \n",
       "3             Hachette Book Group        5500  \n",
       "4         Penguin Group (USA) LLC        4750  "
      ]
     },
     "execution_count": 5,
     "metadata": {},
     "output_type": "execute_result"
    }
   ],
   "source": [
    "data.head()"
   ]
  },
  {
   "cell_type": "code",
   "execution_count": 3,
   "id": "a5d2f29e-8b99-41fe-be68-a1c1f84f32c7",
   "metadata": {},
   "outputs": [
    {
     "data": {
      "text/plain": [
       "(1070, 15)"
      ]
     },
     "execution_count": 3,
     "metadata": {},
     "output_type": "execute_result"
    }
   ],
   "source": [
    "data.shape"
   ]
  },
  {
   "cell_type": "code",
   "execution_count": 4,
   "id": "1cc20723-996f-4fac-a7d4-000b26035a18",
   "metadata": {},
   "outputs": [
    {
     "name": "stdout",
     "output_type": "stream",
     "text": [
      "<class 'pandas.core.frame.DataFrame'>\n",
      "RangeIndex: 1070 entries, 0 to 1069\n",
      "Data columns (total 15 columns):\n",
      " #   Column               Non-Null Count  Dtype  \n",
      "---  ------               --------------  -----  \n",
      " 0   index                1070 non-null   int64  \n",
      " 1   Publishing Year      1069 non-null   float64\n",
      " 2   Book Name            1047 non-null   object \n",
      " 3   Author               1070 non-null   object \n",
      " 4   language_code        1017 non-null   object \n",
      " 5   Author_Rating        1070 non-null   object \n",
      " 6   Book_average_rating  1070 non-null   float64\n",
      " 7   Book_ratings_count   1070 non-null   int64  \n",
      " 8   genre                1070 non-null   object \n",
      " 9   gross sales          1070 non-null   float64\n",
      " 10  publisher revenue    1070 non-null   float64\n",
      " 11  sale price           1070 non-null   float64\n",
      " 12  sales rank           1070 non-null   int64  \n",
      " 13  Publisher            1070 non-null   object \n",
      " 14  units sold           1070 non-null   int64  \n",
      "dtypes: float64(5), int64(4), object(6)\n",
      "memory usage: 125.5+ KB\n"
     ]
    }
   ],
   "source": [
    "data.info()"
   ]
  },
  {
   "cell_type": "code",
   "execution_count": 6,
   "id": "7ceffaf7-2b00-41ac-a0d0-c40d4f7bbc1c",
   "metadata": {},
   "outputs": [
    {
     "data": {
      "text/plain": [
       "0"
      ]
     },
     "execution_count": 6,
     "metadata": {},
     "output_type": "execute_result"
    }
   ],
   "source": [
    "data.duplicated().sum()"
   ]
  },
  {
   "cell_type": "code",
   "execution_count": 7,
   "id": "85e2cada-5ae1-482b-b3c1-135cfaa5d338",
   "metadata": {},
   "outputs": [
    {
     "data": {
      "text/plain": [
       "index                   0\n",
       "Publishing Year         1\n",
       "Book Name              23\n",
       "Author                  0\n",
       "language_code          53\n",
       "Author_Rating           0\n",
       "Book_average_rating     0\n",
       "Book_ratings_count      0\n",
       "genre                   0\n",
       "gross sales             0\n",
       "publisher revenue       0\n",
       "sale price              0\n",
       "sales rank              0\n",
       "Publisher               0\n",
       "units sold              0\n",
       "dtype: int64"
      ]
     },
     "execution_count": 7,
     "metadata": {},
     "output_type": "execute_result"
    }
   ],
   "source": [
    "data.isnull().sum()"
   ]
  },
  {
   "cell_type": "code",
   "execution_count": 8,
   "id": "5b433911-b759-496f-be2c-64758ab1b8fc",
   "metadata": {},
   "outputs": [],
   "source": [
    "data.dropna(inplace=True)"
   ]
  },
  {
   "cell_type": "code",
   "execution_count": 9,
   "id": "3ea5be12-114e-4d20-83d1-62a8d6b70faf",
   "metadata": {},
   "outputs": [
    {
     "data": {
      "text/plain": [
       "index                  0\n",
       "Publishing Year        0\n",
       "Book Name              0\n",
       "Author                 0\n",
       "language_code          0\n",
       "Author_Rating          0\n",
       "Book_average_rating    0\n",
       "Book_ratings_count     0\n",
       "genre                  0\n",
       "gross sales            0\n",
       "publisher revenue      0\n",
       "sale price             0\n",
       "sales rank             0\n",
       "Publisher              0\n",
       "units sold             0\n",
       "dtype: int64"
      ]
     },
     "execution_count": 9,
     "metadata": {},
     "output_type": "execute_result"
    }
   ],
   "source": [
    "data.isnull().sum()"
   ]
  },
  {
   "cell_type": "code",
   "execution_count": 10,
   "id": "0eed1f32-59ae-46d9-9f72-29ba01eb804a",
   "metadata": {},
   "outputs": [
    {
     "data": {
      "text/plain": [
       "Index(['index', 'Publishing Year', 'Book Name', 'Author', 'language_code',\n",
       "       'Author_Rating', 'Book_average_rating', 'Book_ratings_count', 'genre',\n",
       "       'gross sales', 'publisher revenue', 'sale price', 'sales rank',\n",
       "       'Publisher ', 'units sold'],\n",
       "      dtype='object')"
      ]
     },
     "execution_count": 10,
     "metadata": {},
     "output_type": "execute_result"
    }
   ],
   "source": [
    "data.columns"
   ]
  },
  {
   "cell_type": "code",
   "execution_count": 11,
   "id": "4d8c2bec-37f6-47ac-8f3b-029ac3d1332a",
   "metadata": {},
   "outputs": [
    {
     "data": {
      "text/html": [
       "<div>\n",
       "<style scoped>\n",
       "    .dataframe tbody tr th:only-of-type {\n",
       "        vertical-align: middle;\n",
       "    }\n",
       "\n",
       "    .dataframe tbody tr th {\n",
       "        vertical-align: top;\n",
       "    }\n",
       "\n",
       "    .dataframe thead th {\n",
       "        text-align: right;\n",
       "    }\n",
       "</style>\n",
       "<table border=\"1\" class=\"dataframe\">\n",
       "  <thead>\n",
       "    <tr style=\"text-align: right;\">\n",
       "      <th></th>\n",
       "      <th>index</th>\n",
       "      <th>Publishing Year</th>\n",
       "      <th>Book_average_rating</th>\n",
       "      <th>Book_ratings_count</th>\n",
       "      <th>gross sales</th>\n",
       "      <th>publisher revenue</th>\n",
       "      <th>sale price</th>\n",
       "      <th>sales rank</th>\n",
       "      <th>units sold</th>\n",
       "    </tr>\n",
       "  </thead>\n",
       "  <tbody>\n",
       "    <tr>\n",
       "      <th>count</th>\n",
       "      <td>998.000000</td>\n",
       "      <td>998.000000</td>\n",
       "      <td>998.000000</td>\n",
       "      <td>998.000000</td>\n",
       "      <td>998.00000</td>\n",
       "      <td>998.000000</td>\n",
       "      <td>998.000000</td>\n",
       "      <td>998.000000</td>\n",
       "      <td>998.000000</td>\n",
       "    </tr>\n",
       "    <tr>\n",
       "      <th>mean</th>\n",
       "      <td>529.619238</td>\n",
       "      <td>1971.070140</td>\n",
       "      <td>4.003056</td>\n",
       "      <td>95500.622244</td>\n",
       "      <td>1885.08515</td>\n",
       "      <td>848.897952</td>\n",
       "      <td>4.839649</td>\n",
       "      <td>605.750501</td>\n",
       "      <td>9802.312625</td>\n",
       "    </tr>\n",
       "    <tr>\n",
       "      <th>std</th>\n",
       "      <td>308.616860</td>\n",
       "      <td>190.019592</td>\n",
       "      <td>0.247360</td>\n",
       "      <td>31650.845116</td>\n",
       "      <td>4023.26877</td>\n",
       "      <td>2303.504061</td>\n",
       "      <td>3.585046</td>\n",
       "      <td>369.174705</td>\n",
       "      <td>15503.088302</td>\n",
       "    </tr>\n",
       "    <tr>\n",
       "      <th>min</th>\n",
       "      <td>0.000000</td>\n",
       "      <td>-560.000000</td>\n",
       "      <td>2.970000</td>\n",
       "      <td>27308.000000</td>\n",
       "      <td>104.94000</td>\n",
       "      <td>0.000000</td>\n",
       "      <td>0.990000</td>\n",
       "      <td>1.000000</td>\n",
       "      <td>106.000000</td>\n",
       "    </tr>\n",
       "    <tr>\n",
       "      <th>25%</th>\n",
       "      <td>263.250000</td>\n",
       "      <td>1985.000000</td>\n",
       "      <td>3.850000</td>\n",
       "      <td>70946.500000</td>\n",
       "      <td>370.88250</td>\n",
       "      <td>0.000000</td>\n",
       "      <td>1.990000</td>\n",
       "      <td>283.000000</td>\n",
       "      <td>555.000000</td>\n",
       "    </tr>\n",
       "    <tr>\n",
       "      <th>50%</th>\n",
       "      <td>530.500000</td>\n",
       "      <td>2003.000000</td>\n",
       "      <td>4.010000</td>\n",
       "      <td>89901.000000</td>\n",
       "      <td>806.25000</td>\n",
       "      <td>260.619000</td>\n",
       "      <td>3.990000</td>\n",
       "      <td>591.500000</td>\n",
       "      <td>3915.000000</td>\n",
       "    </tr>\n",
       "    <tr>\n",
       "      <th>75%</th>\n",
       "      <td>793.750000</td>\n",
       "      <td>2010.000000</td>\n",
       "      <td>4.170000</td>\n",
       "      <td>115596.000000</td>\n",
       "      <td>1492.96500</td>\n",
       "      <td>721.180500</td>\n",
       "      <td>6.990000</td>\n",
       "      <td>919.500000</td>\n",
       "      <td>5420.250000</td>\n",
       "    </tr>\n",
       "    <tr>\n",
       "      <th>max</th>\n",
       "      <td>1069.000000</td>\n",
       "      <td>2016.000000</td>\n",
       "      <td>4.770000</td>\n",
       "      <td>206792.000000</td>\n",
       "      <td>47795.00000</td>\n",
       "      <td>28677.000000</td>\n",
       "      <td>33.860000</td>\n",
       "      <td>1273.000000</td>\n",
       "      <td>61560.000000</td>\n",
       "    </tr>\n",
       "  </tbody>\n",
       "</table>\n",
       "</div>"
      ],
      "text/plain": [
       "             index  Publishing Year  Book_average_rating  Book_ratings_count  \\\n",
       "count   998.000000       998.000000           998.000000          998.000000   \n",
       "mean    529.619238      1971.070140             4.003056        95500.622244   \n",
       "std     308.616860       190.019592             0.247360        31650.845116   \n",
       "min       0.000000      -560.000000             2.970000        27308.000000   \n",
       "25%     263.250000      1985.000000             3.850000        70946.500000   \n",
       "50%     530.500000      2003.000000             4.010000        89901.000000   \n",
       "75%     793.750000      2010.000000             4.170000       115596.000000   \n",
       "max    1069.000000      2016.000000             4.770000       206792.000000   \n",
       "\n",
       "       gross sales  publisher revenue  sale price   sales rank    units sold  \n",
       "count    998.00000         998.000000  998.000000   998.000000    998.000000  \n",
       "mean    1885.08515         848.897952    4.839649   605.750501   9802.312625  \n",
       "std     4023.26877        2303.504061    3.585046   369.174705  15503.088302  \n",
       "min      104.94000           0.000000    0.990000     1.000000    106.000000  \n",
       "25%      370.88250           0.000000    1.990000   283.000000    555.000000  \n",
       "50%      806.25000         260.619000    3.990000   591.500000   3915.000000  \n",
       "75%     1492.96500         721.180500    6.990000   919.500000   5420.250000  \n",
       "max    47795.00000       28677.000000   33.860000  1273.000000  61560.000000  "
      ]
     },
     "execution_count": 11,
     "metadata": {},
     "output_type": "execute_result"
    }
   ],
   "source": [
    "data.describe()"
   ]
  },
  {
   "cell_type": "code",
   "execution_count": 13,
   "id": "c971e4ed-e063-4ca0-b7f7-3f86ff709854",
   "metadata": {},
   "outputs": [
    {
     "data": {
      "text/plain": [
       "index                  998\n",
       "Publishing Year        147\n",
       "Book Name              996\n",
       "Author                 698\n",
       "language_code            8\n",
       "Author_Rating            4\n",
       "Book_average_rating    132\n",
       "Book_ratings_count     992\n",
       "genre                    4\n",
       "gross sales            775\n",
       "publisher revenue      568\n",
       "sale price             139\n",
       "sales rank             815\n",
       "Publisher                9\n",
       "units sold             478\n",
       "dtype: int64"
      ]
     },
     "execution_count": 13,
     "metadata": {},
     "output_type": "execute_result"
    }
   ],
   "source": [
    "data.nunique()"
   ]
  },
  {
   "cell_type": "code",
   "execution_count": 14,
   "id": "a5b1e4b3-ab80-43a6-bf09-6530d7ca0920",
   "metadata": {},
   "outputs": [],
   "source": [
    "data=data[data['Publishing Year']>1900]"
   ]
  },
  {
   "cell_type": "code",
   "execution_count": 15,
   "id": "f76fd071-5cdc-4845-8145-2b5f3151ccc3",
   "metadata": {},
   "outputs": [
    {
     "data": {
      "text/html": [
       "<div>\n",
       "<style scoped>\n",
       "    .dataframe tbody tr th:only-of-type {\n",
       "        vertical-align: middle;\n",
       "    }\n",
       "\n",
       "    .dataframe tbody tr th {\n",
       "        vertical-align: top;\n",
       "    }\n",
       "\n",
       "    .dataframe thead th {\n",
       "        text-align: right;\n",
       "    }\n",
       "</style>\n",
       "<table border=\"1\" class=\"dataframe\">\n",
       "  <thead>\n",
       "    <tr style=\"text-align: right;\">\n",
       "      <th></th>\n",
       "      <th>index</th>\n",
       "      <th>Publishing Year</th>\n",
       "      <th>Book_average_rating</th>\n",
       "      <th>Book_ratings_count</th>\n",
       "      <th>gross sales</th>\n",
       "      <th>publisher revenue</th>\n",
       "      <th>sale price</th>\n",
       "      <th>sales rank</th>\n",
       "      <th>units sold</th>\n",
       "    </tr>\n",
       "  </thead>\n",
       "  <tbody>\n",
       "    <tr>\n",
       "      <th>count</th>\n",
       "      <td>941.000000</td>\n",
       "      <td>941.000000</td>\n",
       "      <td>941.000000</td>\n",
       "      <td>941.000000</td>\n",
       "      <td>941.000000</td>\n",
       "      <td>941.000000</td>\n",
       "      <td>941.000000</td>\n",
       "      <td>941.000000</td>\n",
       "      <td>941.000000</td>\n",
       "    </tr>\n",
       "    <tr>\n",
       "      <th>mean</th>\n",
       "      <td>531.159405</td>\n",
       "      <td>1995.002125</td>\n",
       "      <td>4.009065</td>\n",
       "      <td>95364.986185</td>\n",
       "      <td>1855.433177</td>\n",
       "      <td>844.930476</td>\n",
       "      <td>4.806514</td>\n",
       "      <td>607.515409</td>\n",
       "      <td>9891.850159</td>\n",
       "    </tr>\n",
       "    <tr>\n",
       "      <th>std</th>\n",
       "      <td>307.909254</td>\n",
       "      <td>23.060051</td>\n",
       "      <td>0.246623</td>\n",
       "      <td>31581.290176</td>\n",
       "      <td>4032.902756</td>\n",
       "      <td>2324.948627</td>\n",
       "      <td>3.583938</td>\n",
       "      <td>368.419469</td>\n",
       "      <td>15481.595549</td>\n",
       "    </tr>\n",
       "    <tr>\n",
       "      <th>min</th>\n",
       "      <td>0.000000</td>\n",
       "      <td>1901.000000</td>\n",
       "      <td>2.970000</td>\n",
       "      <td>27308.000000</td>\n",
       "      <td>104.940000</td>\n",
       "      <td>0.000000</td>\n",
       "      <td>0.990000</td>\n",
       "      <td>1.000000</td>\n",
       "      <td>106.000000</td>\n",
       "    </tr>\n",
       "    <tr>\n",
       "      <th>25%</th>\n",
       "      <td>270.000000</td>\n",
       "      <td>1989.000000</td>\n",
       "      <td>3.860000</td>\n",
       "      <td>71095.000000</td>\n",
       "      <td>357.390000</td>\n",
       "      <td>0.000000</td>\n",
       "      <td>1.990000</td>\n",
       "      <td>290.000000</td>\n",
       "      <td>585.000000</td>\n",
       "    </tr>\n",
       "    <tr>\n",
       "      <th>50%</th>\n",
       "      <td>530.000000</td>\n",
       "      <td>2003.000000</td>\n",
       "      <td>4.020000</td>\n",
       "      <td>89733.000000</td>\n",
       "      <td>789.870000</td>\n",
       "      <td>260.946000</td>\n",
       "      <td>3.990000</td>\n",
       "      <td>591.000000</td>\n",
       "      <td>3942.000000</td>\n",
       "    </tr>\n",
       "    <tr>\n",
       "      <th>75%</th>\n",
       "      <td>793.000000</td>\n",
       "      <td>2010.000000</td>\n",
       "      <td>4.180000</td>\n",
       "      <td>113881.000000</td>\n",
       "      <td>1470.720000</td>\n",
       "      <td>713.286000</td>\n",
       "      <td>6.990000</td>\n",
       "      <td>918.000000</td>\n",
       "      <td>5481.000000</td>\n",
       "    </tr>\n",
       "    <tr>\n",
       "      <th>max</th>\n",
       "      <td>1069.000000</td>\n",
       "      <td>2016.000000</td>\n",
       "      <td>4.770000</td>\n",
       "      <td>206792.000000</td>\n",
       "      <td>47795.000000</td>\n",
       "      <td>28677.000000</td>\n",
       "      <td>33.860000</td>\n",
       "      <td>1273.000000</td>\n",
       "      <td>61560.000000</td>\n",
       "    </tr>\n",
       "  </tbody>\n",
       "</table>\n",
       "</div>"
      ],
      "text/plain": [
       "             index  Publishing Year  Book_average_rating  Book_ratings_count  \\\n",
       "count   941.000000       941.000000           941.000000          941.000000   \n",
       "mean    531.159405      1995.002125             4.009065        95364.986185   \n",
       "std     307.909254        23.060051             0.246623        31581.290176   \n",
       "min       0.000000      1901.000000             2.970000        27308.000000   \n",
       "25%     270.000000      1989.000000             3.860000        71095.000000   \n",
       "50%     530.000000      2003.000000             4.020000        89733.000000   \n",
       "75%     793.000000      2010.000000             4.180000       113881.000000   \n",
       "max    1069.000000      2016.000000             4.770000       206792.000000   \n",
       "\n",
       "        gross sales  publisher revenue  sale price   sales rank    units sold  \n",
       "count    941.000000         941.000000  941.000000   941.000000    941.000000  \n",
       "mean    1855.433177         844.930476    4.806514   607.515409   9891.850159  \n",
       "std     4032.902756        2324.948627    3.583938   368.419469  15481.595549  \n",
       "min      104.940000           0.000000    0.990000     1.000000    106.000000  \n",
       "25%      357.390000           0.000000    1.990000   290.000000    585.000000  \n",
       "50%      789.870000         260.946000    3.990000   591.000000   3942.000000  \n",
       "75%     1470.720000         713.286000    6.990000   918.000000   5481.000000  \n",
       "max    47795.000000       28677.000000   33.860000  1273.000000  61560.000000  "
      ]
     },
     "execution_count": 15,
     "metadata": {},
     "output_type": "execute_result"
    }
   ],
   "source": [
    "data.describe()"
   ]
  },
  {
   "cell_type": "code",
   "execution_count": 16,
   "id": "ce5441cb-29ff-46eb-ad53-0c3937779f58",
   "metadata": {},
   "outputs": [
    {
     "data": {
      "text/plain": [
       "(941, 15)"
      ]
     },
     "execution_count": 16,
     "metadata": {},
     "output_type": "execute_result"
    }
   ],
   "source": [
    "data.shape"
   ]
  },
  {
   "cell_type": "code",
   "execution_count": 17,
   "id": "93851778-23ec-48d8-aed5-160ecd8e9f37",
   "metadata": {},
   "outputs": [
    {
     "data": {
      "text/plain": [
       "129"
      ]
     },
     "execution_count": 17,
     "metadata": {},
     "output_type": "execute_result"
    }
   ],
   "source": [
    "1070-941"
   ]
  },
  {
   "cell_type": "code",
   "execution_count": 18,
   "id": "52290606-ace6-4135-a999-71043cb0b98a",
   "metadata": {},
   "outputs": [
    {
     "data": {
      "text/plain": [
       "index                  0\n",
       "Publishing Year        0\n",
       "Book Name              0\n",
       "Author                 0\n",
       "language_code          0\n",
       "Author_Rating          0\n",
       "Book_average_rating    0\n",
       "Book_ratings_count     0\n",
       "genre                  0\n",
       "gross sales            0\n",
       "publisher revenue      0\n",
       "sale price             0\n",
       "sales rank             0\n",
       "Publisher              0\n",
       "units sold             0\n",
       "dtype: int64"
      ]
     },
     "execution_count": 18,
     "metadata": {},
     "output_type": "execute_result"
    }
   ],
   "source": [
    "data.isna().sum()"
   ]
  },
  {
   "cell_type": "code",
   "execution_count": 25,
   "id": "61695b60-b6fe-4e7f-ac04-26368a71a2c4",
   "metadata": {},
   "outputs": [
    {
     "data": {
      "image/png": "[encoded data removed]",
      "text/plain": [
       "<Figure size 640x480 with 1 Axes>"
      ]
     },
     "metadata": {},
     "output_type": "display_data"
    }
   ],
   "source": [
    "plt.hist(data['Publishing Year'])\n",
    "plt.title('Distribution of Publishing Year')\n",
    "plt.xlabel('Publishing Year')\n",
    "plt.ylabel('Frequency')\n",
    "plt.show()"
   ]
  },
  {
   "cell_type": "code",
   "execution_count": 26,
   "id": "a835f000-c515-444f-beca-9d94d81e5630",
   "metadata": {},
   "outputs": [
    {
     "data": {
      "text/plain": [
       "genre\n",
       "genre fiction    726\n",
       "nonfiction       149\n",
       "fiction           51\n",
       "children          15\n",
       "Name: count, dtype: int64"
      ]
     },
     "execution_count": 26,
     "metadata": {},
     "output_type": "execute_result"
    }
   ],
   "source": [
    "data['genre'].value_counts()"
   ]
  },
  {
   "cell_type": "code",
   "execution_count": 29,
   "id": "a9e63419-10c5-4e22-b673-28cfb1c29572",
   "metadata": {},
   "outputs": [
    {
     "name": "stderr",
     "output_type": "stream",
     "text": [
      "C:\\Users\\User\\AppData\\Local\\Temp\\ipykernel_13880\\1400384952.py:1: FutureWarning: \n",
      "\n",
      "Passing `palette` without assigning `hue` is deprecated and will be removed in v0.14.0. Assign the `x` variable to `hue` and set `legend=False` for the same effect.\n",
      "\n",
      "  sns.countplot(x='genre',data=data,palette='CMRmap')\n"
     ]
    },
    {
     "data": {
      "image/png": "[encoded data removed]",
      "text/plain": [
       "<Figure size 640x480 with 1 Axes>"
      ]
     },
     "metadata": {},
     "output_type": "display_data"
    }
   ],
   "source": [
    "sns.countplot(x='genre',data=data,palette='CMRmap')\n",
    "plt.title('Number of Books in each Genre')\n",
    "plt.xlabel('genre')\n",
    "plt.ylabel('Number of Books')\n",
    "plt.show()"
   ]
  },
  {
   "cell_type": "code",
   "execution_count": 33,
   "id": "05acad44-7192-4c06-b128-68475145cb96",
   "metadata": {},
   "outputs": [
    {
     "data": {
      "text/plain": [
       "Author\n",
       "Bill Watterson                      4.650000\n",
       "Bill Watterson, G.B. Trudeau        4.610000\n",
       "J.R.R. Tolkien                      4.590000\n",
       "George R.R. Martin                  4.560000\n",
       "Sarah J. Maas                       4.526000\n",
       "Hiromu Arakawa, Akira Watanabe      4.490000\n",
       "Cassandra Clare                     4.480000\n",
       "Art Spiegelman                      4.470000\n",
       "Larry McMurtry                      4.470000\n",
       "Jon Stone, Michael J. Smollin       4.450000\n",
       "Robert Kirkman                      4.430000\n",
       "Robert Jordan, Brandon Sanderson    4.420000\n",
       "Stephen E. Ambrose                  4.420000\n",
       "Alex Haley                          4.420000\n",
       "Tsugumi Ohba, Takeshi Obata         4.420000\n",
       "Hajime Isayama, Sheldon Drzka       4.420000\n",
       "EiichirÅ Oda, Andy Nakatani        4.420000\n",
       "Marissa Meyer                       4.416667\n",
       "Atul Gawande                        4.400000\n",
       "Ta-Nehisi Coates                    4.400000\n",
       "Name: Book_average_rating, dtype: float64"
      ]
     },
     "execution_count": 33,
     "metadata": {},
     "output_type": "execute_result"
    }
   ],
   "source": [
    "data.groupby('Author')['Book_average_rating'].mean().sort_values(ascending=False).head(20)"
   ]
  },
  {
   "cell_type": "code",
   "execution_count": 34,
   "id": "1b3bc78d-4fea-40bd-a3df-8eda80736deb",
   "metadata": {},
   "outputs": [
    {
     "data": {
      "text/plain": [
       "Author\n",
       "Emma Cline                                              3.490000\n",
       "Arthur Miller                                           3.490000\n",
       "Jessica Knoll                                           3.480000\n",
       "Lev Grossman                                            3.470000\n",
       "William S. Burroughs, James Grauerholz, Barry  Miles    3.460000\n",
       "Cynthia D'Aprix Sweeney                                 3.450000\n",
       "Unknown, Seamus Heaney                                  3.420000\n",
       "Anne Tyler                                              3.400000\n",
       "TÃ©a Obreht                                             3.370000\n",
       "Lauren Weisberger                                       3.355000\n",
       "Edith Wharton                                           3.350000\n",
       "Lena Dunham, Joana Avillez                              3.330000\n",
       "Harper Lee                                              3.310000\n",
       "A.S.A. Harrison                                         3.300000\n",
       "Seth Grahame-Smith, Jane Austen                         3.280000\n",
       "Chetan Bhagat                                           3.273333\n",
       "Audrey Niffenegger                                      3.230000\n",
       "Herman Koch, Sam Garrett                                3.220000\n",
       "P.D. James                                              3.210000\n",
       "Sue Monk Kidd                                           3.100000\n",
       "Name: Book_average_rating, dtype: float64"
      ]
     },
     "execution_count": 34,
     "metadata": {},
     "output_type": "execute_result"
    }
   ],
   "source": [
    "data.groupby('Author')['Book_average_rating'].mean().sort_values(ascending=False).tail(20)"
   ]
  },
  {
   "cell_type": "code",
   "execution_count": 35,
   "id": "274ae76d-3e08-4cc8-993c-f79a73f815e7",
   "metadata": {},
   "outputs": [
    {
     "data": {
      "text/plain": [
       "Index(['index', 'Publishing Year', 'Book Name', 'Author', 'language_code',\n",
       "       'Author_Rating', 'Book_average_rating', 'Book_ratings_count', 'genre',\n",
       "       'gross sales', 'publisher revenue', 'sale price', 'sales rank',\n",
       "       'Publisher ', 'units sold'],\n",
       "      dtype='object')"
      ]
     },
     "execution_count": 35,
     "metadata": {},
     "output_type": "execute_result"
    }
   ],
   "source": [
    "data.columns"
   ]
  },
  {
   "cell_type": "code",
   "execution_count": 41,
   "id": "a7de16e3-7557-44ea-ab23-d694f3db7316",
   "metadata": {},
   "outputs": [
    {
     "data": {
      "text/plain": [
       "genre\n",
       "genre fiction    726\n",
       "nonfiction       149\n",
       "fiction           51\n",
       "children          15\n",
       "Name: count, dtype: int64"
      ]
     },
     "execution_count": 41,
     "metadata": {},
     "output_type": "execute_result"
    }
   ],
   "source": [
    "data['genre'].value_counts()"
   ]
  },
  {
   "cell_type": "code",
   "execution_count": 40,
   "id": "ff439ebf-e511-4a32-b2d5-ec2966aa1dec",
   "metadata": {},
   "outputs": [
    {
     "data": {
      "text/plain": [
       "count               941\n",
       "unique                4\n",
       "top       genre fiction\n",
       "freq                726\n",
       "Name: genre, dtype: object"
      ]
     },
     "execution_count": 40,
     "metadata": {},
     "output_type": "execute_result"
    }
   ],
   "source": [
    "data['genre'].describe()"
   ]
  },
  {
   "cell_type": "code",
   "execution_count": 44,
   "id": "2486ae43-9eb8-49a1-8c6e-f7a5d4875271",
   "metadata": {},
   "outputs": [
    {
     "data": {
      "text/html": [
       "<div>\n",
       "<style scoped>\n",
       "    .dataframe tbody tr th:only-of-type {\n",
       "        vertical-align: middle;\n",
       "    }\n",
       "\n",
       "    .dataframe tbody tr th {\n",
       "        vertical-align: top;\n",
       "    }\n",
       "\n",
       "    .dataframe thead th {\n",
       "        text-align: right;\n",
       "    }\n",
       "</style>\n",
       "<table border=\"1\" class=\"dataframe\">\n",
       "  <thead>\n",
       "    <tr style=\"text-align: right;\">\n",
       "      <th></th>\n",
       "      <th>index</th>\n",
       "      <th>Publishing Year</th>\n",
       "      <th>Book_average_rating</th>\n",
       "      <th>Book_ratings_count</th>\n",
       "      <th>gross sales</th>\n",
       "      <th>publisher revenue</th>\n",
       "      <th>sale price</th>\n",
       "      <th>sales rank</th>\n",
       "      <th>units sold</th>\n",
       "    </tr>\n",
       "  </thead>\n",
       "  <tbody>\n",
       "    <tr>\n",
       "      <th>count</th>\n",
       "      <td>726.000000</td>\n",
       "      <td>726.000000</td>\n",
       "      <td>726.000000</td>\n",
       "      <td>726.000000</td>\n",
       "      <td>726.000000</td>\n",
       "      <td>726.000000</td>\n",
       "      <td>726.000000</td>\n",
       "      <td>726.000000</td>\n",
       "      <td>726.00000</td>\n",
       "    </tr>\n",
       "    <tr>\n",
       "      <th>mean</th>\n",
       "      <td>506.657025</td>\n",
       "      <td>1995.202479</td>\n",
       "      <td>4.003003</td>\n",
       "      <td>97095.786501</td>\n",
       "      <td>1962.102011</td>\n",
       "      <td>841.548066</td>\n",
       "      <td>4.611405</td>\n",
       "      <td>578.458678</td>\n",
       "      <td>9685.88843</td>\n",
       "    </tr>\n",
       "    <tr>\n",
       "      <th>std</th>\n",
       "      <td>309.073725</td>\n",
       "      <td>23.036560</td>\n",
       "      <td>0.245300</td>\n",
       "      <td>31970.254100</td>\n",
       "      <td>4117.753373</td>\n",
       "      <td>2350.582071</td>\n",
       "      <td>3.568836</td>\n",
       "      <td>369.053507</td>\n",
       "      <td>15470.59434</td>\n",
       "    </tr>\n",
       "    <tr>\n",
       "      <th>min</th>\n",
       "      <td>0.000000</td>\n",
       "      <td>1901.000000</td>\n",
       "      <td>2.970000</td>\n",
       "      <td>27308.000000</td>\n",
       "      <td>104.940000</td>\n",
       "      <td>0.000000</td>\n",
       "      <td>0.990000</td>\n",
       "      <td>1.000000</td>\n",
       "      <td>106.00000</td>\n",
       "    </tr>\n",
       "    <tr>\n",
       "      <th>25%</th>\n",
       "      <td>228.500000</td>\n",
       "      <td>1991.000000</td>\n",
       "      <td>3.850000</td>\n",
       "      <td>71786.500000</td>\n",
       "      <td>367.415000</td>\n",
       "      <td>0.000000</td>\n",
       "      <td>1.990000</td>\n",
       "      <td>249.500000</td>\n",
       "      <td>571.25000</td>\n",
       "    </tr>\n",
       "    <tr>\n",
       "      <th>50%</th>\n",
       "      <td>495.000000</td>\n",
       "      <td>2004.000000</td>\n",
       "      <td>4.010000</td>\n",
       "      <td>93135.000000</td>\n",
       "      <td>780.290000</td>\n",
       "      <td>151.563000</td>\n",
       "      <td>3.990000</td>\n",
       "      <td>547.500000</td>\n",
       "      <td>3699.50000</td>\n",
       "    </tr>\n",
       "    <tr>\n",
       "      <th>75%</th>\n",
       "      <td>767.500000</td>\n",
       "      <td>2010.000000</td>\n",
       "      <td>4.170000</td>\n",
       "      <td>116792.750000</td>\n",
       "      <td>1505.635000</td>\n",
       "      <td>690.948000</td>\n",
       "      <td>6.490000</td>\n",
       "      <td>886.750000</td>\n",
       "      <td>5427.00000</td>\n",
       "    </tr>\n",
       "    <tr>\n",
       "      <th>max</th>\n",
       "      <td>1069.000000</td>\n",
       "      <td>2016.000000</td>\n",
       "      <td>4.770000</td>\n",
       "      <td>206792.000000</td>\n",
       "      <td>47795.000000</td>\n",
       "      <td>28677.000000</td>\n",
       "      <td>33.860000</td>\n",
       "      <td>1273.000000</td>\n",
       "      <td>61560.00000</td>\n",
       "    </tr>\n",
       "  </tbody>\n",
       "</table>\n",
       "</div>"
      ],
      "text/plain": [
       "             index  Publishing Year  Book_average_rating  Book_ratings_count  \\\n",
       "count   726.000000       726.000000           726.000000          726.000000   \n",
       "mean    506.657025      1995.202479             4.003003        97095.786501   \n",
       "std     309.073725        23.036560             0.245300        31970.254100   \n",
       "min       0.000000      1901.000000             2.970000        27308.000000   \n",
       "25%     228.500000      1991.000000             3.850000        71786.500000   \n",
       "50%     495.000000      2004.000000             4.010000        93135.000000   \n",
       "75%     767.500000      2010.000000             4.170000       116792.750000   \n",
       "max    1069.000000      2016.000000             4.770000       206792.000000   \n",
       "\n",
       "        gross sales  publisher revenue  sale price   sales rank   units sold  \n",
       "count    726.000000         726.000000  726.000000   726.000000    726.00000  \n",
       "mean    1962.102011         841.548066    4.611405   578.458678   9685.88843  \n",
       "std     4117.753373        2350.582071    3.568836   369.053507  15470.59434  \n",
       "min      104.940000           0.000000    0.990000     1.000000    106.00000  \n",
       "25%      367.415000           0.000000    1.990000   249.500000    571.25000  \n",
       "50%      780.290000         151.563000    3.990000   547.500000   3699.50000  \n",
       "75%     1505.635000         690.948000    6.490000   886.750000   5427.00000  \n",
       "max    47795.000000       28677.000000   33.860000  1273.000000  61560.00000  "
      ]
     },
     "execution_count": 44,
     "metadata": {},
     "output_type": "execute_result"
    }
   ],
   "source": [
    "data[data['genre']=='genre fiction'].describe()"
   ]
  },
  {
   "cell_type": "code",
   "execution_count": 45,
   "id": "8561d4ca-36bd-4c61-8632-84ac586c20a2",
   "metadata": {},
   "outputs": [
    {
     "data": {
      "text/html": [
       "<div>\n",
       "<style scoped>\n",
       "    .dataframe tbody tr th:only-of-type {\n",
       "        vertical-align: middle;\n",
       "    }\n",
       "\n",
       "    .dataframe tbody tr th {\n",
       "        vertical-align: top;\n",
       "    }\n",
       "\n",
       "    .dataframe thead th {\n",
       "        text-align: right;\n",
       "    }\n",
       "</style>\n",
       "<table border=\"1\" class=\"dataframe\">\n",
       "  <thead>\n",
       "    <tr style=\"text-align: right;\">\n",
       "      <th></th>\n",
       "      <th>index</th>\n",
       "      <th>Publishing Year</th>\n",
       "      <th>Book_average_rating</th>\n",
       "      <th>Book_ratings_count</th>\n",
       "      <th>gross sales</th>\n",
       "      <th>publisher revenue</th>\n",
       "      <th>sale price</th>\n",
       "      <th>sales rank</th>\n",
       "      <th>units sold</th>\n",
       "    </tr>\n",
       "  </thead>\n",
       "  <tbody>\n",
       "    <tr>\n",
       "      <th>count</th>\n",
       "      <td>149.000000</td>\n",
       "      <td>149.000000</td>\n",
       "      <td>149.000000</td>\n",
       "      <td>149.000000</td>\n",
       "      <td>149.000000</td>\n",
       "      <td>149.000000</td>\n",
       "      <td>149.000000</td>\n",
       "      <td>149.000000</td>\n",
       "      <td>149.000000</td>\n",
       "    </tr>\n",
       "    <tr>\n",
       "      <th>mean</th>\n",
       "      <td>613.033557</td>\n",
       "      <td>1994.899329</td>\n",
       "      <td>4.025705</td>\n",
       "      <td>90912.832215</td>\n",
       "      <td>1311.349262</td>\n",
       "      <td>757.427758</td>\n",
       "      <td>5.473557</td>\n",
       "      <td>705.248322</td>\n",
       "      <td>10339.187919</td>\n",
       "    </tr>\n",
       "    <tr>\n",
       "      <th>std</th>\n",
       "      <td>292.697898</td>\n",
       "      <td>21.730146</td>\n",
       "      <td>0.265045</td>\n",
       "      <td>29075.872072</td>\n",
       "      <td>2443.903962</td>\n",
       "      <td>1476.339467</td>\n",
       "      <td>3.780856</td>\n",
       "      <td>352.660025</td>\n",
       "      <td>14945.619516</td>\n",
       "    </tr>\n",
       "    <tr>\n",
       "      <th>min</th>\n",
       "      <td>7.000000</td>\n",
       "      <td>1902.000000</td>\n",
       "      <td>3.230000</td>\n",
       "      <td>37379.000000</td>\n",
       "      <td>104.940000</td>\n",
       "      <td>0.000000</td>\n",
       "      <td>0.990000</td>\n",
       "      <td>8.000000</td>\n",
       "      <td>106.000000</td>\n",
       "    </tr>\n",
       "    <tr>\n",
       "      <th>25%</th>\n",
       "      <td>358.000000</td>\n",
       "      <td>1987.000000</td>\n",
       "      <td>3.900000</td>\n",
       "      <td>70119.000000</td>\n",
       "      <td>343.850000</td>\n",
       "      <td>156.414000</td>\n",
       "      <td>1.990000</td>\n",
       "      <td>387.000000</td>\n",
       "      <td>815.000000</td>\n",
       "    </tr>\n",
       "    <tr>\n",
       "      <th>50%</th>\n",
       "      <td>685.000000</td>\n",
       "      <td>2002.000000</td>\n",
       "      <td>4.030000</td>\n",
       "      <td>82270.000000</td>\n",
       "      <td>885.040000</td>\n",
       "      <td>505.344000</td>\n",
       "      <td>4.990000</td>\n",
       "      <td>787.000000</td>\n",
       "      <td>4212.000000</td>\n",
       "    </tr>\n",
       "    <tr>\n",
       "      <th>75%</th>\n",
       "      <td>857.000000</td>\n",
       "      <td>2009.000000</td>\n",
       "      <td>4.200000</td>\n",
       "      <td>106729.000000</td>\n",
       "      <td>1334.540000</td>\n",
       "      <td>798.534000</td>\n",
       "      <td>8.890000</td>\n",
       "      <td>1005.000000</td>\n",
       "      <td>5913.000000</td>\n",
       "    </tr>\n",
       "    <tr>\n",
       "      <th>max</th>\n",
       "      <td>1065.000000</td>\n",
       "      <td>2016.000000</td>\n",
       "      <td>4.610000</td>\n",
       "      <td>174280.000000</td>\n",
       "      <td>26182.000000</td>\n",
       "      <td>15709.200000</td>\n",
       "      <td>14.440000</td>\n",
       "      <td>1268.000000</td>\n",
       "      <td>54000.000000</td>\n",
       "    </tr>\n",
       "  </tbody>\n",
       "</table>\n",
       "</div>"
      ],
      "text/plain": [
       "             index  Publishing Year  Book_average_rating  Book_ratings_count  \\\n",
       "count   149.000000       149.000000           149.000000          149.000000   \n",
       "mean    613.033557      1994.899329             4.025705        90912.832215   \n",
       "std     292.697898        21.730146             0.265045        29075.872072   \n",
       "min       7.000000      1902.000000             3.230000        37379.000000   \n",
       "25%     358.000000      1987.000000             3.900000        70119.000000   \n",
       "50%     685.000000      2002.000000             4.030000        82270.000000   \n",
       "75%     857.000000      2009.000000             4.200000       106729.000000   \n",
       "max    1065.000000      2016.000000             4.610000       174280.000000   \n",
       "\n",
       "        gross sales  publisher revenue  sale price   sales rank    units sold  \n",
       "count    149.000000         149.000000  149.000000   149.000000    149.000000  \n",
       "mean    1311.349262         757.427758    5.473557   705.248322  10339.187919  \n",
       "std     2443.903962        1476.339467    3.780856   352.660025  14945.619516  \n",
       "min      104.940000           0.000000    0.990000     8.000000    106.000000  \n",
       "25%      343.850000         156.414000    1.990000   387.000000    815.000000  \n",
       "50%      885.040000         505.344000    4.990000   787.000000   4212.000000  \n",
       "75%     1334.540000         798.534000    8.890000  1005.000000   5913.000000  \n",
       "max    26182.000000       15709.200000   14.440000  1268.000000  54000.000000  "
      ]
     },
     "execution_count": 45,
     "metadata": {},
     "output_type": "execute_result"
    }
   ],
   "source": [
    "data[data['genre']=='nonfiction'].describe()"
   ]
  },
  {
   "cell_type": "code",
   "execution_count": 46,
   "id": "8d4fe8ca-4bea-4d99-b475-42a51027f6a1",
   "metadata": {},
   "outputs": [
    {
     "data": {
      "text/html": [
       "<div>\n",
       "<style scoped>\n",
       "    .dataframe tbody tr th:only-of-type {\n",
       "        vertical-align: middle;\n",
       "    }\n",
       "\n",
       "    .dataframe tbody tr th {\n",
       "        vertical-align: top;\n",
       "    }\n",
       "\n",
       "    .dataframe thead th {\n",
       "        text-align: right;\n",
       "    }\n",
       "</style>\n",
       "<table border=\"1\" class=\"dataframe\">\n",
       "  <thead>\n",
       "    <tr style=\"text-align: right;\">\n",
       "      <th></th>\n",
       "      <th>index</th>\n",
       "      <th>Publishing Year</th>\n",
       "      <th>Book_average_rating</th>\n",
       "      <th>Book_ratings_count</th>\n",
       "      <th>gross sales</th>\n",
       "      <th>publisher revenue</th>\n",
       "      <th>sale price</th>\n",
       "      <th>sales rank</th>\n",
       "      <th>units sold</th>\n",
       "    </tr>\n",
       "  </thead>\n",
       "  <tbody>\n",
       "    <tr>\n",
       "      <th>count</th>\n",
       "      <td>51.000000</td>\n",
       "      <td>51.000000</td>\n",
       "      <td>51.000000</td>\n",
       "      <td>51.000000</td>\n",
       "      <td>51.000000</td>\n",
       "      <td>51.000000</td>\n",
       "      <td>51.000000</td>\n",
       "      <td>51.000000</td>\n",
       "      <td>51.000000</td>\n",
       "    </tr>\n",
       "    <tr>\n",
       "      <th>mean</th>\n",
       "      <td>605.137255</td>\n",
       "      <td>1992.058824</td>\n",
       "      <td>4.039608</td>\n",
       "      <td>89211.254902</td>\n",
       "      <td>2199.672549</td>\n",
       "      <td>1233.678706</td>\n",
       "      <td>5.246863</td>\n",
       "      <td>694.686275</td>\n",
       "      <td>8580.764706</td>\n",
       "    </tr>\n",
       "    <tr>\n",
       "      <th>std</th>\n",
       "      <td>305.444333</td>\n",
       "      <td>28.901496</td>\n",
       "      <td>0.223535</td>\n",
       "      <td>32922.937721</td>\n",
       "      <td>6381.863665</td>\n",
       "      <td>3850.310515</td>\n",
       "      <td>3.241634</td>\n",
       "      <td>369.451620</td>\n",
       "      <td>15242.382035</td>\n",
       "    </tr>\n",
       "    <tr>\n",
       "      <th>min</th>\n",
       "      <td>3.000000</td>\n",
       "      <td>1905.000000</td>\n",
       "      <td>3.470000</td>\n",
       "      <td>36541.000000</td>\n",
       "      <td>107.910000</td>\n",
       "      <td>0.000000</td>\n",
       "      <td>0.990000</td>\n",
       "      <td>3.000000</td>\n",
       "      <td>106.000000</td>\n",
       "    </tr>\n",
       "    <tr>\n",
       "      <th>25%</th>\n",
       "      <td>451.000000</td>\n",
       "      <td>1990.500000</td>\n",
       "      <td>3.905000</td>\n",
       "      <td>70148.500000</td>\n",
       "      <td>412.300000</td>\n",
       "      <td>102.762000</td>\n",
       "      <td>2.990000</td>\n",
       "      <td>498.500000</td>\n",
       "      <td>414.500000</td>\n",
       "    </tr>\n",
       "    <tr>\n",
       "      <th>50%</th>\n",
       "      <td>569.000000</td>\n",
       "      <td>2005.000000</td>\n",
       "      <td>4.040000</td>\n",
       "      <td>82474.000000</td>\n",
       "      <td>723.550000</td>\n",
       "      <td>372.126000</td>\n",
       "      <td>3.990000</td>\n",
       "      <td>632.000000</td>\n",
       "      <td>4240.000000</td>\n",
       "    </tr>\n",
       "    <tr>\n",
       "      <th>75%</th>\n",
       "      <td>898.500000</td>\n",
       "      <td>2010.500000</td>\n",
       "      <td>4.210000</td>\n",
       "      <td>97726.000000</td>\n",
       "      <td>1188.555000</td>\n",
       "      <td>693.009000</td>\n",
       "      <td>7.990000</td>\n",
       "      <td>1054.000000</td>\n",
       "      <td>4644.000000</td>\n",
       "    </tr>\n",
       "    <tr>\n",
       "      <th>max</th>\n",
       "      <td>1058.000000</td>\n",
       "      <td>2016.000000</td>\n",
       "      <td>4.440000</td>\n",
       "      <td>189671.000000</td>\n",
       "      <td>41250.000000</td>\n",
       "      <td>24750.000000</td>\n",
       "      <td>11.990000</td>\n",
       "      <td>1255.000000</td>\n",
       "      <td>57240.000000</td>\n",
       "    </tr>\n",
       "  </tbody>\n",
       "</table>\n",
       "</div>"
      ],
      "text/plain": [
       "             index  Publishing Year  Book_average_rating  Book_ratings_count  \\\n",
       "count    51.000000        51.000000            51.000000           51.000000   \n",
       "mean    605.137255      1992.058824             4.039608        89211.254902   \n",
       "std     305.444333        28.901496             0.223535        32922.937721   \n",
       "min       3.000000      1905.000000             3.470000        36541.000000   \n",
       "25%     451.000000      1990.500000             3.905000        70148.500000   \n",
       "50%     569.000000      2005.000000             4.040000        82474.000000   \n",
       "75%     898.500000      2010.500000             4.210000        97726.000000   \n",
       "max    1058.000000      2016.000000             4.440000       189671.000000   \n",
       "\n",
       "        gross sales  publisher revenue  sale price   sales rank    units sold  \n",
       "count     51.000000          51.000000   51.000000    51.000000     51.000000  \n",
       "mean    2199.672549        1233.678706    5.246863   694.686275   8580.764706  \n",
       "std     6381.863665        3850.310515    3.241634   369.451620  15242.382035  \n",
       "min      107.910000           0.000000    0.990000     3.000000    106.000000  \n",
       "25%      412.300000         102.762000    2.990000   498.500000    414.500000  \n",
       "50%      723.550000         372.126000    3.990000   632.000000   4240.000000  \n",
       "75%     1188.555000         693.009000    7.990000  1054.000000   4644.000000  \n",
       "max    41250.000000       24750.000000   11.990000  1255.000000  57240.000000  "
      ]
     },
     "execution_count": 46,
     "metadata": {},
     "output_type": "execute_result"
    }
   ],
   "source": [
    "data[data['genre']=='fiction'].describe()"
   ]
  },
  {
   "cell_type": "code",
   "execution_count": 47,
   "id": "21ba6d1f-2f7c-41ea-972b-031c799e769b",
   "metadata": {},
   "outputs": [
    {
     "data": {
      "text/html": [
       "<div>\n",
       "<style scoped>\n",
       "    .dataframe tbody tr th:only-of-type {\n",
       "        vertical-align: middle;\n",
       "    }\n",
       "\n",
       "    .dataframe tbody tr th {\n",
       "        vertical-align: top;\n",
       "    }\n",
       "\n",
       "    .dataframe thead th {\n",
       "        text-align: right;\n",
       "    }\n",
       "</style>\n",
       "<table border=\"1\" class=\"dataframe\">\n",
       "  <thead>\n",
       "    <tr style=\"text-align: right;\">\n",
       "      <th></th>\n",
       "      <th>index</th>\n",
       "      <th>Publishing Year</th>\n",
       "      <th>Book_average_rating</th>\n",
       "      <th>Book_ratings_count</th>\n",
       "      <th>gross sales</th>\n",
       "      <th>publisher revenue</th>\n",
       "      <th>sale price</th>\n",
       "      <th>sales rank</th>\n",
       "      <th>units sold</th>\n",
       "    </tr>\n",
       "  </thead>\n",
       "  <tbody>\n",
       "    <tr>\n",
       "      <th>count</th>\n",
       "      <td>15.000000</td>\n",
       "      <td>15.000000</td>\n",
       "      <td>15.000000</td>\n",
       "      <td>15.000000</td>\n",
       "      <td>15.000000</td>\n",
       "      <td>15.000000</td>\n",
       "      <td>15.000000</td>\n",
       "      <td>15.000000</td>\n",
       "      <td>15.000000</td>\n",
       "    </tr>\n",
       "    <tr>\n",
       "      <th>mean</th>\n",
       "      <td>652.266667</td>\n",
       "      <td>1996.333333</td>\n",
       "      <td>4.033333</td>\n",
       "      <td>76741.666667</td>\n",
       "      <td>926.814667</td>\n",
       "      <td>556.088800</td>\n",
       "      <td>6.126667</td>\n",
       "      <td>746.666667</td>\n",
       "      <td>19874.533333</td>\n",
       "    </tr>\n",
       "    <tr>\n",
       "      <th>std</th>\n",
       "      <td>204.380760</td>\n",
       "      <td>14.553677</td>\n",
       "      <td>0.194373</td>\n",
       "      <td>18778.140402</td>\n",
       "      <td>514.990330</td>\n",
       "      <td>308.994198</td>\n",
       "      <td>2.218306</td>\n",
       "      <td>253.275307</td>\n",
       "      <td>19747.404722</td>\n",
       "    </tr>\n",
       "    <tr>\n",
       "      <th>min</th>\n",
       "      <td>320.000000</td>\n",
       "      <td>1958.000000</td>\n",
       "      <td>3.770000</td>\n",
       "      <td>37792.000000</td>\n",
       "      <td>226.860000</td>\n",
       "      <td>136.116000</td>\n",
       "      <td>1.990000</td>\n",
       "      <td>342.000000</td>\n",
       "      <td>106.000000</td>\n",
       "    </tr>\n",
       "    <tr>\n",
       "      <th>25%</th>\n",
       "      <td>561.500000</td>\n",
       "      <td>1990.500000</td>\n",
       "      <td>3.895000</td>\n",
       "      <td>67294.000000</td>\n",
       "      <td>574.400000</td>\n",
       "      <td>344.640000</td>\n",
       "      <td>5.025000</td>\n",
       "      <td>626.000000</td>\n",
       "      <td>3402.000000</td>\n",
       "    </tr>\n",
       "    <tr>\n",
       "      <th>50%</th>\n",
       "      <td>650.000000</td>\n",
       "      <td>1999.000000</td>\n",
       "      <td>4.010000</td>\n",
       "      <td>72683.000000</td>\n",
       "      <td>725.700000</td>\n",
       "      <td>435.420000</td>\n",
       "      <td>6.150000</td>\n",
       "      <td>745.000000</td>\n",
       "      <td>5265.000000</td>\n",
       "    </tr>\n",
       "    <tr>\n",
       "      <th>75%</th>\n",
       "      <td>741.000000</td>\n",
       "      <td>2006.500000</td>\n",
       "      <td>4.165000</td>\n",
       "      <td>88693.500000</td>\n",
       "      <td>1437.985000</td>\n",
       "      <td>862.791000</td>\n",
       "      <td>7.265000</td>\n",
       "      <td>854.000000</td>\n",
       "      <td>35640.000000</td>\n",
       "    </tr>\n",
       "    <tr>\n",
       "      <th>max</th>\n",
       "      <td>1048.000000</td>\n",
       "      <td>2011.000000</td>\n",
       "      <td>4.380000</td>\n",
       "      <td>109063.000000</td>\n",
       "      <td>1877.820000</td>\n",
       "      <td>1126.692000</td>\n",
       "      <td>9.990000</td>\n",
       "      <td>1241.000000</td>\n",
       "      <td>50112.000000</td>\n",
       "    </tr>\n",
       "  </tbody>\n",
       "</table>\n",
       "</div>"
      ],
      "text/plain": [
       "             index  Publishing Year  Book_average_rating  Book_ratings_count  \\\n",
       "count    15.000000        15.000000            15.000000           15.000000   \n",
       "mean    652.266667      1996.333333             4.033333        76741.666667   \n",
       "std     204.380760        14.553677             0.194373        18778.140402   \n",
       "min     320.000000      1958.000000             3.770000        37792.000000   \n",
       "25%     561.500000      1990.500000             3.895000        67294.000000   \n",
       "50%     650.000000      1999.000000             4.010000        72683.000000   \n",
       "75%     741.000000      2006.500000             4.165000        88693.500000   \n",
       "max    1048.000000      2011.000000             4.380000       109063.000000   \n",
       "\n",
       "       gross sales  publisher revenue  sale price   sales rank    units sold  \n",
       "count    15.000000          15.000000   15.000000    15.000000     15.000000  \n",
       "mean    926.814667         556.088800    6.126667   746.666667  19874.533333  \n",
       "std     514.990330         308.994198    2.218306   253.275307  19747.404722  \n",
       "min     226.860000         136.116000    1.990000   342.000000    106.000000  \n",
       "25%     574.400000         344.640000    5.025000   626.000000   3402.000000  \n",
       "50%     725.700000         435.420000    6.150000   745.000000   5265.000000  \n",
       "75%    1437.985000         862.791000    7.265000   854.000000  35640.000000  \n",
       "max    1877.820000        1126.692000    9.990000  1241.000000  50112.000000  "
      ]
     },
     "execution_count": 47,
     "metadata": {},
     "output_type": "execute_result"
    }
   ],
   "source": [
    "data[data['genre']=='children'].describe()"
   ]
  },
  {
   "cell_type": "code",
   "execution_count": 38,
   "id": "d7c8bd54-de6c-45ec-a602-e0435923544d",
   "metadata": {},
   "outputs": [
    {
     "name": "stderr",
     "output_type": "stream",
     "text": [
      "C:\\Users\\User\\AppData\\Local\\Temp\\ipykernel_13880\\2722088679.py:1: FutureWarning: \n",
      "\n",
      "Passing `palette` without assigning `hue` is deprecated and will be removed in v0.14.0. Assign the `x` variable to `hue` and set `legend=False` for the same effect.\n",
      "\n",
      "  sns.boxplot(x='genre',y='Book_ratings_count',data=data,palette='Dark2')\n"
     ]
    },
    {
     "data": {
      "image/png": "[encoded data removed]",
      "text/plain": [
       "<Figure size 640x480 with 1 Axes>"
      ]
     },
     "metadata": {},
     "output_type": "display_data"
    }
   ],
   "source": [
    "sns.boxplot(x='genre',y='Book_ratings_count',data=data,palette='Dark2')\n",
    "plt.title('Box plot of Book ratings count for each genre')\n",
    "plt.show()"
   ]
  },
  {
   "cell_type": "code",
   "execution_count": 51,
   "id": "6d8d4393-c17d-46d0-b87f-fcd422ac1623",
   "metadata": {},
   "outputs": [
    {
     "data": {
      "text/html": [
       "<div>\n",
       "<style scoped>\n",
       "    .dataframe tbody tr th:only-of-type {\n",
       "        vertical-align: middle;\n",
       "    }\n",
       "\n",
       "    .dataframe tbody tr th {\n",
       "        vertical-align: top;\n",
       "    }\n",
       "\n",
       "    .dataframe thead th {\n",
       "        text-align: right;\n",
       "    }\n",
       "</style>\n",
       "<table border=\"1\" class=\"dataframe\">\n",
       "  <thead>\n",
       "    <tr style=\"text-align: right;\">\n",
       "      <th></th>\n",
       "      <th>index</th>\n",
       "      <th>Publishing Year</th>\n",
       "      <th>Book Name</th>\n",
       "      <th>Author</th>\n",
       "      <th>language_code</th>\n",
       "      <th>Author_Rating</th>\n",
       "      <th>Book_average_rating</th>\n",
       "      <th>Book_ratings_count</th>\n",
       "      <th>genre</th>\n",
       "      <th>gross sales</th>\n",
       "      <th>publisher revenue</th>\n",
       "      <th>sale price</th>\n",
       "      <th>sales rank</th>\n",
       "      <th>Publisher</th>\n",
       "      <th>units sold</th>\n",
       "    </tr>\n",
       "  </thead>\n",
       "  <tbody>\n",
       "    <tr>\n",
       "      <th>0</th>\n",
       "      <td>0</td>\n",
       "      <td>1975.0</td>\n",
       "      <td>Beowulf</td>\n",
       "      <td>Unknown, Seamus Heaney</td>\n",
       "      <td>en-US</td>\n",
       "      <td>Novice</td>\n",
       "      <td>3.42</td>\n",
       "      <td>155903</td>\n",
       "      <td>genre fiction</td>\n",
       "      <td>34160.0</td>\n",
       "      <td>20496.0</td>\n",
       "      <td>4.88</td>\n",
       "      <td>1</td>\n",
       "      <td>HarperCollins Publishers</td>\n",
       "      <td>7000</td>\n",
       "    </tr>\n",
       "    <tr>\n",
       "      <th>1</th>\n",
       "      <td>1</td>\n",
       "      <td>1987.0</td>\n",
       "      <td>Batman: Year One</td>\n",
       "      <td>Frank Miller, David Mazzucchelli, Richmond Lew...</td>\n",
       "      <td>eng</td>\n",
       "      <td>Intermediate</td>\n",
       "      <td>4.23</td>\n",
       "      <td>145267</td>\n",
       "      <td>genre fiction</td>\n",
       "      <td>12437.5</td>\n",
       "      <td>7462.5</td>\n",
       "      <td>1.99</td>\n",
       "      <td>2</td>\n",
       "      <td>HarperCollins Publishers</td>\n",
       "      <td>6250</td>\n",
       "    </tr>\n",
       "  </tbody>\n",
       "</table>\n",
       "</div>"
      ],
      "text/plain": [
       "   index  Publishing Year         Book Name  \\\n",
       "0      0           1975.0           Beowulf   \n",
       "1      1           1987.0  Batman: Year One   \n",
       "\n",
       "                                              Author language_code  \\\n",
       "0                             Unknown, Seamus Heaney         en-US   \n",
       "1  Frank Miller, David Mazzucchelli, Richmond Lew...           eng   \n",
       "\n",
       "  Author_Rating  Book_average_rating  Book_ratings_count          genre  \\\n",
       "0        Novice                 3.42              155903  genre fiction   \n",
       "1  Intermediate                 4.23              145267  genre fiction   \n",
       "\n",
       "   gross sales  publisher revenue  sale price  sales rank  \\\n",
       "0      34160.0            20496.0        4.88           1   \n",
       "1      12437.5             7462.5        1.99           2   \n",
       "\n",
       "                 Publisher   units sold  \n",
       "0  HarperCollins Publishers        7000  \n",
       "1  HarperCollins Publishers        6250  "
      ]
     },
     "execution_count": 51,
     "metadata": {},
     "output_type": "execute_result"
    }
   ],
   "source": [
    "data.head(2)"
   ]
  },
  {
   "cell_type": "code",
   "execution_count": 54,
   "id": "6b7b8365-9860-4998-a499-1a655f546081",
   "metadata": {},
   "outputs": [
    {
     "data": {
      "text/plain": [
       "count      941.000000\n",
       "mean      9891.850159\n",
       "std      15481.595549\n",
       "min        106.000000\n",
       "25%        585.000000\n",
       "50%       3942.000000\n",
       "75%       5481.000000\n",
       "max      61560.000000\n",
       "Name: units sold, dtype: float64"
      ]
     },
     "execution_count": 54,
     "metadata": {},
     "output_type": "execute_result"
    }
   ],
   "source": [
    "data['units sold'].describe()"
   ]
  },
  {
   "cell_type": "code",
   "execution_count": 48,
   "id": "8d380e3a-7be9-4a01-8a32-b061ba88fee1",
   "metadata": {},
   "outputs": [
    {
     "data": {
      "text/plain": [
       "Index(['index', 'Publishing Year', 'Book Name', 'Author', 'language_code',\n",
       "       'Author_Rating', 'Book_average_rating', 'Book_ratings_count', 'genre',\n",
       "       'gross sales', 'publisher revenue', 'sale price', 'sales rank',\n",
       "       'Publisher ', 'units sold'],\n",
       "      dtype='object')"
      ]
     },
     "execution_count": 48,
     "metadata": {},
     "output_type": "execute_result"
    }
   ],
   "source": [
    "data.columns"
   ]
  },
  {
   "cell_type": "code",
   "execution_count": 56,
   "id": "1cbaff7e-0ebb-4f77-99c9-66a2cf573926",
   "metadata": {},
   "outputs": [
    {
     "data": {
      "image/png": "[encoded data removed]",
      "text/plain": [
       "<Figure size 640x480 with 1 Axes>"
      ]
     },
     "metadata": {},
     "output_type": "display_data"
    }
   ],
   "source": [
    "plt.scatter(x='sale price',y='units sold',data=data)\n",
    "plt.xlabel('Units Sold')\n",
    "plt.ylabel('Sale price')\n",
    "plt.title('Scatter plot of Units Sold vs sale price')\n",
    "plt.show()"
   ]
  },
  {
   "cell_type": "code",
   "execution_count": 61,
   "id": "d2f08cd4-eb6b-4adf-ae5c-daeec39820ce",
   "metadata": {},
   "outputs": [],
   "source": [
    "language_code=data['language_code'].value_counts()"
   ]
  },
  {
   "cell_type": "code",
   "execution_count": 66,
   "id": "e72a0345-0042-453c-98b5-fcec4afb6e62",
   "metadata": {},
   "outputs": [
    {
     "name": "stderr",
     "output_type": "stream",
     "text": [
      "C:\\Users\\User\\AppData\\Local\\Temp\\ipykernel_13880\\2563841419.py:1: FutureWarning: \n",
      "\n",
      "Passing `palette` without assigning `hue` is deprecated and will be removed in v0.14.0. Assign the `x` variable to `hue` and set `legend=False` for the same effect.\n",
      "\n",
      "  ax=sns.countplot(x='language_code',data=data,palette='bone')\n"
     ]
    },
    {
     "data": {
      "image/png": "[encoded data removed]",
      "text/plain": [
       "<Figure size 640x480 with 1 Axes>"
      ]
     },
     "metadata": {},
     "output_type": "display_data"
    }
   ],
   "source": [
    "ax=sns.countplot(x='language_code',data=data,palette='bone')\n",
    "for bars in ax.containers:\n",
    "    ax.bar_label(bars)\n",
    "plt.title('Language distribution of books')\n",
    "plt.show()"
   ]
  },
  {
   "cell_type": "code",
   "execution_count": 68,
   "id": "8affd6ac-f0b2-4e79-800b-b78c50d9fa5b",
   "metadata": {},
   "outputs": [
    {
     "data": {
      "text/html": [
       "<div>\n",
       "<style scoped>\n",
       "    .dataframe tbody tr th:only-of-type {\n",
       "        vertical-align: middle;\n",
       "    }\n",
       "\n",
       "    .dataframe tbody tr th {\n",
       "        vertical-align: top;\n",
       "    }\n",
       "\n",
       "    .dataframe thead th {\n",
       "        text-align: right;\n",
       "    }\n",
       "</style>\n",
       "<table border=\"1\" class=\"dataframe\">\n",
       "  <thead>\n",
       "    <tr style=\"text-align: right;\">\n",
       "      <th></th>\n",
       "      <th>index</th>\n",
       "      <th>Publishing Year</th>\n",
       "      <th>Book Name</th>\n",
       "      <th>Author</th>\n",
       "      <th>language_code</th>\n",
       "      <th>Author_Rating</th>\n",
       "      <th>Book_average_rating</th>\n",
       "      <th>Book_ratings_count</th>\n",
       "      <th>genre</th>\n",
       "      <th>gross sales</th>\n",
       "      <th>publisher revenue</th>\n",
       "      <th>sale price</th>\n",
       "      <th>sales rank</th>\n",
       "      <th>Publisher</th>\n",
       "      <th>units sold</th>\n",
       "    </tr>\n",
       "  </thead>\n",
       "  <tbody>\n",
       "    <tr>\n",
       "      <th>0</th>\n",
       "      <td>0</td>\n",
       "      <td>1975.0</td>\n",
       "      <td>Beowulf</td>\n",
       "      <td>Unknown, Seamus Heaney</td>\n",
       "      <td>en-US</td>\n",
       "      <td>Novice</td>\n",
       "      <td>3.42</td>\n",
       "      <td>155903</td>\n",
       "      <td>genre fiction</td>\n",
       "      <td>34160.0</td>\n",
       "      <td>20496.0</td>\n",
       "      <td>4.88</td>\n",
       "      <td>1</td>\n",
       "      <td>HarperCollins Publishers</td>\n",
       "      <td>7000</td>\n",
       "    </tr>\n",
       "    <tr>\n",
       "      <th>1</th>\n",
       "      <td>1</td>\n",
       "      <td>1987.0</td>\n",
       "      <td>Batman: Year One</td>\n",
       "      <td>Frank Miller, David Mazzucchelli, Richmond Lew...</td>\n",
       "      <td>eng</td>\n",
       "      <td>Intermediate</td>\n",
       "      <td>4.23</td>\n",
       "      <td>145267</td>\n",
       "      <td>genre fiction</td>\n",
       "      <td>12437.5</td>\n",
       "      <td>7462.5</td>\n",
       "      <td>1.99</td>\n",
       "      <td>2</td>\n",
       "      <td>HarperCollins Publishers</td>\n",
       "      <td>6250</td>\n",
       "    </tr>\n",
       "    <tr>\n",
       "      <th>2</th>\n",
       "      <td>2</td>\n",
       "      <td>2015.0</td>\n",
       "      <td>Go Set a Watchman</td>\n",
       "      <td>Harper Lee</td>\n",
       "      <td>eng</td>\n",
       "      <td>Novice</td>\n",
       "      <td>3.31</td>\n",
       "      <td>138669</td>\n",
       "      <td>genre fiction</td>\n",
       "      <td>47795.0</td>\n",
       "      <td>28677.0</td>\n",
       "      <td>8.69</td>\n",
       "      <td>3</td>\n",
       "      <td>Amazon Digital Services,  Inc.</td>\n",
       "      <td>5500</td>\n",
       "    </tr>\n",
       "  </tbody>\n",
       "</table>\n",
       "</div>"
      ],
      "text/plain": [
       "   index  Publishing Year          Book Name  \\\n",
       "0      0           1975.0            Beowulf   \n",
       "1      1           1987.0   Batman: Year One   \n",
       "2      2           2015.0  Go Set a Watchman   \n",
       "\n",
       "                                              Author language_code  \\\n",
       "0                             Unknown, Seamus Heaney         en-US   \n",
       "1  Frank Miller, David Mazzucchelli, Richmond Lew...           eng   \n",
       "2                                         Harper Lee           eng   \n",
       "\n",
       "  Author_Rating  Book_average_rating  Book_ratings_count          genre  \\\n",
       "0        Novice                 3.42              155903  genre fiction   \n",
       "1  Intermediate                 4.23              145267  genre fiction   \n",
       "2        Novice                 3.31              138669  genre fiction   \n",
       "\n",
       "   gross sales  publisher revenue  sale price  sales rank  \\\n",
       "0      34160.0            20496.0        4.88           1   \n",
       "1      12437.5             7462.5        1.99           2   \n",
       "2      47795.0            28677.0        8.69           3   \n",
       "\n",
       "                       Publisher   units sold  \n",
       "0        HarperCollins Publishers        7000  \n",
       "1        HarperCollins Publishers        6250  \n",
       "2  Amazon Digital Services,  Inc.        5500  "
      ]
     },
     "execution_count": 68,
     "metadata": {},
     "output_type": "execute_result"
    }
   ],
   "source": [
    "data.head(3)"
   ]
  },
  {
   "cell_type": "code",
   "execution_count": 69,
   "id": "c68ad961-7897-412d-b962-8988e098d709",
   "metadata": {},
   "outputs": [
    {
     "data": {
      "text/plain": [
       "4.77"
      ]
     },
     "execution_count": 69,
     "metadata": {},
     "output_type": "execute_result"
    }
   ],
   "source": [
    "data['Book_average_rating'].max()"
   ]
  },
  {
   "cell_type": "code",
   "execution_count": 70,
   "id": "b28ee71a-b922-4788-b399-e40dd96861e4",
   "metadata": {},
   "outputs": [
    {
     "data": {
      "text/html": [
       "<div>\n",
       "<style scoped>\n",
       "    .dataframe tbody tr th:only-of-type {\n",
       "        vertical-align: middle;\n",
       "    }\n",
       "\n",
       "    .dataframe tbody tr th {\n",
       "        vertical-align: top;\n",
       "    }\n",
       "\n",
       "    .dataframe thead th {\n",
       "        text-align: right;\n",
       "    }\n",
       "</style>\n",
       "<table border=\"1\" class=\"dataframe\">\n",
       "  <thead>\n",
       "    <tr style=\"text-align: right;\">\n",
       "      <th></th>\n",
       "      <th>index</th>\n",
       "      <th>Publishing Year</th>\n",
       "      <th>Book Name</th>\n",
       "      <th>Author</th>\n",
       "      <th>language_code</th>\n",
       "      <th>Author_Rating</th>\n",
       "      <th>Book_average_rating</th>\n",
       "      <th>Book_ratings_count</th>\n",
       "      <th>genre</th>\n",
       "      <th>gross sales</th>\n",
       "      <th>publisher revenue</th>\n",
       "      <th>sale price</th>\n",
       "      <th>sales rank</th>\n",
       "      <th>Publisher</th>\n",
       "      <th>units sold</th>\n",
       "    </tr>\n",
       "  </thead>\n",
       "  <tbody>\n",
       "    <tr>\n",
       "      <th>331</th>\n",
       "      <td>331</td>\n",
       "      <td>2014.0</td>\n",
       "      <td>Words of Radiance</td>\n",
       "      <td>Brandon Sanderson</td>\n",
       "      <td>eng</td>\n",
       "      <td>Famous</td>\n",
       "      <td>4.77</td>\n",
       "      <td>73572</td>\n",
       "      <td>genre fiction</td>\n",
       "      <td>741.52</td>\n",
       "      <td>444.912</td>\n",
       "      <td>2.99</td>\n",
       "      <td>354</td>\n",
       "      <td>HarperCollins Publishers</td>\n",
       "      <td>248</td>\n",
       "    </tr>\n",
       "  </tbody>\n",
       "</table>\n",
       "</div>"
      ],
      "text/plain": [
       "     index  Publishing Year          Book Name             Author  \\\n",
       "331    331           2014.0  Words of Radiance  Brandon Sanderson   \n",
       "\n",
       "    language_code Author_Rating  Book_average_rating  Book_ratings_count  \\\n",
       "331           eng        Famous                 4.77               73572   \n",
       "\n",
       "             genre  gross sales  publisher revenue  sale price  sales rank  \\\n",
       "331  genre fiction       741.52            444.912        2.99         354   \n",
       "\n",
       "                   Publisher   units sold  \n",
       "331  HarperCollins Publishers         248  "
      ]
     },
     "execution_count": 70,
     "metadata": {},
     "output_type": "execute_result"
    }
   ],
   "source": [
    "data[data['Book_average_rating']==4.77]"
   ]
  },
  {
   "cell_type": "code",
   "execution_count": 72,
   "id": "20ad3ddf-b0dc-4f89-8a3a-ceb6ed55dace",
   "metadata": {},
   "outputs": [
    {
     "data": {
      "text/plain": [
       "2.97"
      ]
     },
     "execution_count": 72,
     "metadata": {},
     "output_type": "execute_result"
    }
   ],
   "source": [
    "data['Book_average_rating'].min()"
   ]
  },
  {
   "cell_type": "code",
   "execution_count": 73,
   "id": "fa7ef8aa-89ce-4673-b7f7-2320f8b8e86e",
   "metadata": {},
   "outputs": [
    {
     "data": {
      "text/html": [
       "<div>\n",
       "<style scoped>\n",
       "    .dataframe tbody tr th:only-of-type {\n",
       "        vertical-align: middle;\n",
       "    }\n",
       "\n",
       "    .dataframe tbody tr th {\n",
       "        vertical-align: top;\n",
       "    }\n",
       "\n",
       "    .dataframe thead th {\n",
       "        text-align: right;\n",
       "    }\n",
       "</style>\n",
       "<table border=\"1\" class=\"dataframe\">\n",
       "  <thead>\n",
       "    <tr style=\"text-align: right;\">\n",
       "      <th></th>\n",
       "      <th>index</th>\n",
       "      <th>Publishing Year</th>\n",
       "      <th>Book Name</th>\n",
       "      <th>Author</th>\n",
       "      <th>language_code</th>\n",
       "      <th>Author_Rating</th>\n",
       "      <th>Book_average_rating</th>\n",
       "      <th>Book_ratings_count</th>\n",
       "      <th>genre</th>\n",
       "      <th>gross sales</th>\n",
       "      <th>publisher revenue</th>\n",
       "      <th>sale price</th>\n",
       "      <th>sales rank</th>\n",
       "      <th>Publisher</th>\n",
       "      <th>units sold</th>\n",
       "    </tr>\n",
       "  </thead>\n",
       "  <tbody>\n",
       "    <tr>\n",
       "      <th>878</th>\n",
       "      <td>878</td>\n",
       "      <td>2008.0</td>\n",
       "      <td>The 3 Mistakes of My Life</td>\n",
       "      <td>Chetan Bhagat</td>\n",
       "      <td>eng</td>\n",
       "      <td>Intermediate</td>\n",
       "      <td>2.97</td>\n",
       "      <td>53331</td>\n",
       "      <td>genre fiction</td>\n",
       "      <td>894.88</td>\n",
       "      <td>536.928</td>\n",
       "      <td>7.99</td>\n",
       "      <td>1032</td>\n",
       "      <td>Random House LLC</td>\n",
       "      <td>4440</td>\n",
       "    </tr>\n",
       "  </tbody>\n",
       "</table>\n",
       "</div>"
      ],
      "text/plain": [
       "     index  Publishing Year                  Book Name         Author  \\\n",
       "878    878           2008.0  The 3 Mistakes of My Life  Chetan Bhagat   \n",
       "\n",
       "    language_code Author_Rating  Book_average_rating  Book_ratings_count  \\\n",
       "878           eng  Intermediate                 2.97               53331   \n",
       "\n",
       "             genre  gross sales  publisher revenue  sale price  sales rank  \\\n",
       "878  genre fiction       894.88            536.928        7.99        1032   \n",
       "\n",
       "           Publisher   units sold  \n",
       "878  Random House LLC        4440  "
      ]
     },
     "execution_count": 73,
     "metadata": {},
     "output_type": "execute_result"
    }
   ],
   "source": [
    "data[data['Book_average_rating']==2.97]"
   ]
  },
  {
   "cell_type": "code",
   "execution_count": 77,
   "id": "1e7a430d-c19d-4567-b19a-42e537d96349",
   "metadata": {},
   "outputs": [
    {
     "data": {
      "text/plain": [
       "Author_Rating\n",
       "Famous          206792\n",
       "Intermediate    199872\n",
       "Excellent       167848\n",
       "Novice          155903\n",
       "Name: Book_ratings_count, dtype: int64"
      ]
     },
     "execution_count": 77,
     "metadata": {},
     "output_type": "execute_result"
    }
   ],
   "source": [
    "data.groupby('Author_Rating')['Book_ratings_count'].max().sort_values(ascending=False)"
   ]
  },
  {
   "cell_type": "code",
   "execution_count": 78,
   "id": "345b2212-bd81-4f1b-b82c-cb69596d1b69",
   "metadata": {},
   "outputs": [
    {
     "data": {
      "text/plain": [
       "Author_Rating\n",
       "Famous          54977\n",
       "Novice          42339\n",
       "Excellent       32626\n",
       "Intermediate    27308\n",
       "Name: Book_ratings_count, dtype: int64"
      ]
     },
     "execution_count": 78,
     "metadata": {},
     "output_type": "execute_result"
    }
   ],
   "source": [
    "data.groupby('Author_Rating')['Book_ratings_count'].min().sort_values(ascending=False)"
   ]
  },
  {
   "cell_type": "code",
   "execution_count": 79,
   "id": "4fabb58a-1d33-4926-aa52-cb2ed9e57438",
   "metadata": {},
   "outputs": [
    {
     "data": {
      "text/html": [
       "<div>\n",
       "<style scoped>\n",
       "    .dataframe tbody tr th:only-of-type {\n",
       "        vertical-align: middle;\n",
       "    }\n",
       "\n",
       "    .dataframe tbody tr th {\n",
       "        vertical-align: top;\n",
       "    }\n",
       "\n",
       "    .dataframe thead th {\n",
       "        text-align: right;\n",
       "    }\n",
       "</style>\n",
       "<table border=\"1\" class=\"dataframe\">\n",
       "  <thead>\n",
       "    <tr style=\"text-align: right;\">\n",
       "      <th></th>\n",
       "      <th>count</th>\n",
       "      <th>mean</th>\n",
       "      <th>std</th>\n",
       "      <th>min</th>\n",
       "      <th>25%</th>\n",
       "      <th>50%</th>\n",
       "      <th>75%</th>\n",
       "      <th>max</th>\n",
       "    </tr>\n",
       "    <tr>\n",
       "      <th>Author_Rating</th>\n",
       "      <th></th>\n",
       "      <th></th>\n",
       "      <th></th>\n",
       "      <th></th>\n",
       "      <th></th>\n",
       "      <th></th>\n",
       "      <th></th>\n",
       "      <th></th>\n",
       "    </tr>\n",
       "  </thead>\n",
       "  <tbody>\n",
       "    <tr>\n",
       "      <th>Excellent</th>\n",
       "      <td>320.0</td>\n",
       "      <td>84133.721875</td>\n",
       "      <td>21171.187811</td>\n",
       "      <td>32626.0</td>\n",
       "      <td>69091.00</td>\n",
       "      <td>81810.5</td>\n",
       "      <td>97615.25</td>\n",
       "      <td>167848.0</td>\n",
       "    </tr>\n",
       "    <tr>\n",
       "      <th>Famous</th>\n",
       "      <td>46.0</td>\n",
       "      <td>99112.456522</td>\n",
       "      <td>35477.103629</td>\n",
       "      <td>54977.0</td>\n",
       "      <td>73543.50</td>\n",
       "      <td>90527.0</td>\n",
       "      <td>116215.50</td>\n",
       "      <td>206792.0</td>\n",
       "    </tr>\n",
       "    <tr>\n",
       "      <th>Intermediate</th>\n",
       "      <td>548.0</td>\n",
       "      <td>102053.919708</td>\n",
       "      <td>34344.379517</td>\n",
       "      <td>27308.0</td>\n",
       "      <td>73128.25</td>\n",
       "      <td>98872.5</td>\n",
       "      <td>126896.25</td>\n",
       "      <td>199872.0</td>\n",
       "    </tr>\n",
       "    <tr>\n",
       "      <th>Novice</th>\n",
       "      <td>27.0</td>\n",
       "      <td>86331.111111</td>\n",
       "      <td>30993.500781</td>\n",
       "      <td>42339.0</td>\n",
       "      <td>63539.50</td>\n",
       "      <td>76761.0</td>\n",
       "      <td>101582.50</td>\n",
       "      <td>155903.0</td>\n",
       "    </tr>\n",
       "  </tbody>\n",
       "</table>\n",
       "</div>"
      ],
      "text/plain": [
       "               count           mean           std      min       25%      50%  \\\n",
       "Author_Rating                                                                   \n",
       "Excellent      320.0   84133.721875  21171.187811  32626.0  69091.00  81810.5   \n",
       "Famous          46.0   99112.456522  35477.103629  54977.0  73543.50  90527.0   \n",
       "Intermediate   548.0  102053.919708  34344.379517  27308.0  73128.25  98872.5   \n",
       "Novice          27.0   86331.111111  30993.500781  42339.0  63539.50  76761.0   \n",
       "\n",
       "                     75%       max  \n",
       "Author_Rating                       \n",
       "Excellent       97615.25  167848.0  \n",
       "Famous         116215.50  206792.0  \n",
       "Intermediate   126896.25  199872.0  \n",
       "Novice         101582.50  155903.0  "
      ]
     },
     "execution_count": 79,
     "metadata": {},
     "output_type": "execute_result"
    }
   ],
   "source": [
    "data.groupby('Author_Rating')['Book_ratings_count'].describe()"
   ]
  },
  {
   "cell_type": "code",
   "execution_count": 80,
   "id": "e3f8ff64-1e74-4c62-a9e6-5a322d7fd3dc",
   "metadata": {},
   "outputs": [
    {
     "data": {
      "text/plain": [
       "Index(['index', 'Publishing Year', 'Book Name', 'Author', 'language_code',\n",
       "       'Author_Rating', 'Book_average_rating', 'Book_ratings_count', 'genre',\n",
       "       'gross sales', 'publisher revenue', 'sale price', 'sales rank',\n",
       "       'Publisher ', 'units sold'],\n",
       "      dtype='object')"
      ]
     },
     "execution_count": 80,
     "metadata": {},
     "output_type": "execute_result"
    }
   ],
   "source": [
    "data.columns"
   ]
  },
  {
   "cell_type": "code",
   "execution_count": 81,
   "id": "4ed4f41b-c9f6-465f-a2ea-1ad54340a984",
   "metadata": {},
   "outputs": [
    {
     "data": {
      "image/png": "[encoded data removed]",
      "text/plain": [
       "<Figure size 640x480 with 1 Axes>"
      ]
     },
     "metadata": {},
     "output_type": "display_data"
    }
   ],
   "source": [
    "plt.scatter(data['Book_average_rating'],data['Book_ratings_count'])\n",
    "plt.xlabel('Book average rating')\n",
    "plt.ylabel('Book ratings count')\n",
    "plt.title('Scatter plot of Book average rating vs Book ratings count')\n",
    "plt.show()"
   ]
  },
  {
   "cell_type": "code",
   "execution_count": 82,
   "id": "caedf536-dc82-44f4-a306-cf29ed4cfdeb",
   "metadata": {},
   "outputs": [
    {
     "data": {
      "text/html": [
       "<div>\n",
       "<style scoped>\n",
       "    .dataframe tbody tr th:only-of-type {\n",
       "        vertical-align: middle;\n",
       "    }\n",
       "\n",
       "    .dataframe tbody tr th {\n",
       "        vertical-align: top;\n",
       "    }\n",
       "\n",
       "    .dataframe thead th {\n",
       "        text-align: right;\n",
       "    }\n",
       "</style>\n",
       "<table border=\"1\" class=\"dataframe\">\n",
       "  <thead>\n",
       "    <tr style=\"text-align: right;\">\n",
       "      <th></th>\n",
       "      <th>index</th>\n",
       "      <th>Publishing Year</th>\n",
       "      <th>Book Name</th>\n",
       "      <th>Author</th>\n",
       "      <th>language_code</th>\n",
       "      <th>Author_Rating</th>\n",
       "      <th>Book_average_rating</th>\n",
       "      <th>Book_ratings_count</th>\n",
       "      <th>genre</th>\n",
       "      <th>gross sales</th>\n",
       "      <th>publisher revenue</th>\n",
       "      <th>sale price</th>\n",
       "      <th>sales rank</th>\n",
       "      <th>Publisher</th>\n",
       "      <th>units sold</th>\n",
       "    </tr>\n",
       "  </thead>\n",
       "  <tbody>\n",
       "    <tr>\n",
       "      <th>0</th>\n",
       "      <td>0</td>\n",
       "      <td>1975.0</td>\n",
       "      <td>Beowulf</td>\n",
       "      <td>Unknown, Seamus Heaney</td>\n",
       "      <td>en-US</td>\n",
       "      <td>Novice</td>\n",
       "      <td>3.42</td>\n",
       "      <td>155903</td>\n",
       "      <td>genre fiction</td>\n",
       "      <td>34160.0</td>\n",
       "      <td>20496.0</td>\n",
       "      <td>4.88</td>\n",
       "      <td>1</td>\n",
       "      <td>HarperCollins Publishers</td>\n",
       "      <td>7000</td>\n",
       "    </tr>\n",
       "    <tr>\n",
       "      <th>1</th>\n",
       "      <td>1</td>\n",
       "      <td>1987.0</td>\n",
       "      <td>Batman: Year One</td>\n",
       "      <td>Frank Miller, David Mazzucchelli, Richmond Lew...</td>\n",
       "      <td>eng</td>\n",
       "      <td>Intermediate</td>\n",
       "      <td>4.23</td>\n",
       "      <td>145267</td>\n",
       "      <td>genre fiction</td>\n",
       "      <td>12437.5</td>\n",
       "      <td>7462.5</td>\n",
       "      <td>1.99</td>\n",
       "      <td>2</td>\n",
       "      <td>HarperCollins Publishers</td>\n",
       "      <td>6250</td>\n",
       "    </tr>\n",
       "    <tr>\n",
       "      <th>2</th>\n",
       "      <td>2</td>\n",
       "      <td>2015.0</td>\n",
       "      <td>Go Set a Watchman</td>\n",
       "      <td>Harper Lee</td>\n",
       "      <td>eng</td>\n",
       "      <td>Novice</td>\n",
       "      <td>3.31</td>\n",
       "      <td>138669</td>\n",
       "      <td>genre fiction</td>\n",
       "      <td>47795.0</td>\n",
       "      <td>28677.0</td>\n",
       "      <td>8.69</td>\n",
       "      <td>3</td>\n",
       "      <td>Amazon Digital Services,  Inc.</td>\n",
       "      <td>5500</td>\n",
       "    </tr>\n",
       "  </tbody>\n",
       "</table>\n",
       "</div>"
      ],
      "text/plain": [
       "   index  Publishing Year          Book Name  \\\n",
       "0      0           1975.0            Beowulf   \n",
       "1      1           1987.0   Batman: Year One   \n",
       "2      2           2015.0  Go Set a Watchman   \n",
       "\n",
       "                                              Author language_code  \\\n",
       "0                             Unknown, Seamus Heaney         en-US   \n",
       "1  Frank Miller, David Mazzucchelli, Richmond Lew...           eng   \n",
       "2                                         Harper Lee           eng   \n",
       "\n",
       "  Author_Rating  Book_average_rating  Book_ratings_count          genre  \\\n",
       "0        Novice                 3.42              155903  genre fiction   \n",
       "1  Intermediate                 4.23              145267  genre fiction   \n",
       "2        Novice                 3.31              138669  genre fiction   \n",
       "\n",
       "   gross sales  publisher revenue  sale price  sales rank  \\\n",
       "0      34160.0            20496.0        4.88           1   \n",
       "1      12437.5             7462.5        1.99           2   \n",
       "2      47795.0            28677.0        8.69           3   \n",
       "\n",
       "                       Publisher   units sold  \n",
       "0        HarperCollins Publishers        7000  \n",
       "1        HarperCollins Publishers        6250  \n",
       "2  Amazon Digital Services,  Inc.        5500  "
      ]
     },
     "execution_count": 82,
     "metadata": {},
     "output_type": "execute_result"
    }
   ],
   "source": [
    "data.head(3)"
   ]
  },
  {
   "cell_type": "code",
   "execution_count": 86,
   "id": "f8e1694d-5322-4889-8ac7-3c75298f1d7f",
   "metadata": {},
   "outputs": [
    {
     "data": {
      "text/plain": [
       "Author\n",
       "Harper Lee                                      47795.000\n",
       "Unknown, Seamus Heaney                          34160.000\n",
       "Charles Duhigg                                  27491.670\n",
       "John Berendt                                    26182.000\n",
       "Frances Hodgson Burnett, Nancy Bond             23792.340\n",
       "Margery Williams Bianco, William   Nicholson    21797.820\n",
       "Victoria Aveyard                                19960.000\n",
       "Laini Taylor                                    19139.205\n",
       "Robert Ludlum                                   17783.300\n",
       "Robert M. Pirsig                                16297.340\n",
       "Name: gross sales, dtype: float64"
      ]
     },
     "execution_count": 86,
     "metadata": {},
     "output_type": "execute_result"
    }
   ],
   "source": [
    "data.groupby('Author')['gross sales'].mean().sort_values(ascending=False).head(10)"
   ]
  },
  {
   "cell_type": "code",
   "execution_count": 93,
   "id": "1e156d2e-fc4b-456a-a1d8-26397811d074",
   "metadata": {},
   "outputs": [],
   "source": [
    "gross_sales_highest=data.groupby('Author',as_index=False)['gross sales'].sum().sort_values(by='gross sales',ascending=False).head(10)"
   ]
  },
  {
   "cell_type": "code",
   "execution_count": 98,
   "id": "26ed01ad-9ad8-47f7-89c2-31a4fd355523",
   "metadata": {},
   "outputs": [
    {
     "name": "stderr",
     "output_type": "stream",
     "text": [
      "C:\\Users\\User\\AppData\\Local\\Temp\\ipykernel_13880\\1841333211.py:1: FutureWarning: \n",
      "\n",
      "Passing `palette` without assigning `hue` is deprecated and will be removed in v0.14.0. Assign the `x` variable to `hue` and set `legend=False` for the same effect.\n",
      "\n",
      "  sns.barplot(x='Author',y='gross sales',data=gross_sales_highest,palette='copper')\n"
     ]
    },
    {
     "data": {
      "image/png": "[encoded data removed]",
      "text/plain": [
       "<Figure size 640x480 with 1 Axes>"
      ]
     },
     "metadata": {},
     "output_type": "display_data"
    }
   ],
   "source": [
    "sns.barplot(x='Author',y='gross sales',data=gross_sales_highest,palette='copper')\n",
    "plt.xticks(rotation=70)\n",
    "plt.title('Top 10 total gross sales of 10 Authors')\n",
    "plt.xlabel('Author Name')\n",
    "plt.ylabel('Gross Sales')\n",
    "plt.show()"
   ]
  },
  {
   "cell_type": "code",
   "execution_count": 97,
   "id": "5727d176-aafc-4aa4-8c33-1ba04be755e4",
   "metadata": {},
   "outputs": [],
   "source": [
    "gross_sales_lowest=data.groupby('Author',as_index=False)['gross sales'].sum().sort_values(by='gross sales',ascending=False).tail(10)"
   ]
  },
  {
   "cell_type": "code",
   "execution_count": 103,
   "id": "fd1c6fbb-4d98-4bcf-9b3a-01bb42f90266",
   "metadata": {},
   "outputs": [
    {
     "name": "stderr",
     "output_type": "stream",
     "text": [
      "C:\\Users\\User\\AppData\\Local\\Temp\\ipykernel_13880\\1289924092.py:2: FutureWarning: \n",
      "\n",
      "Passing `palette` without assigning `hue` is deprecated and will be removed in v0.14.0. Assign the `x` variable to `hue` and set `legend=False` for the same effect.\n",
      "\n",
      "  sns.barplot(x='Author',y='gross sales',data=gross_sales_lowest,palette='gist_earth')\n"
     ]
    },
    {
     "data": {
      "image/png": "[encoded data removed]",
      "text/plain": [
       "<Figure size 600x400 with 1 Axes>"
      ]
     },
     "metadata": {},
     "output_type": "display_data"
    }
   ],
   "source": [
    "plt.figure(figsize=(6,4))\n",
    "sns.barplot(x='Author',y='gross sales',data=gross_sales_lowest,palette='gist_earth')\n",
    "plt.xticks(rotation=90)\n",
    "plt.title('Least 10 total gross sales of 10 Authors')\n",
    "plt.xlabel('Author Name')\n",
    "plt.ylabel('Gross Sales')\n",
    "plt.show()"
   ]
  },
  {
   "cell_type": "code",
   "execution_count": 87,
   "id": "990e9d9a-d0cf-47a9-a044-1ada5410e62b",
   "metadata": {},
   "outputs": [
    {
     "data": {
      "text/plain": [
       "Author\n",
       "Ruth Ware                                                    108.90\n",
       "Louis de BerniÃ¨res                                          108.90\n",
       "Marjane Satrapi, Mattias Ripa, Blake Ferris, Anjali Singh    108.90\n",
       "Nathaniel Philbrick                                          107.91\n",
       "Guillermo del Toro, Chuck Hogan                              107.91\n",
       "Ayaan Hirsi Ali                                              107.91\n",
       "Steve Martin                                                 107.91\n",
       "Walter M. Miller Jr.                                         106.92\n",
       "Michael Shaara                                               105.93\n",
       "Dean Koontz                                                  104.94\n",
       "Name: gross sales, dtype: float64"
      ]
     },
     "execution_count": 87,
     "metadata": {},
     "output_type": "execute_result"
    }
   ],
   "source": [
    "data.groupby('Author')['gross sales'].mean().sort_values(ascending=False).tail(10)"
   ]
  },
  {
   "cell_type": "code",
   "execution_count": 105,
   "id": "39f3341e-ff19-4d3a-90be-f258f3579977",
   "metadata": {},
   "outputs": [
    {
     "data": {
      "text/plain": [
       "Index(['index', 'Publishing Year', 'Book Name', 'Author', 'language_code',\n",
       "       'Author_Rating', 'Book_average_rating', 'Book_ratings_count', 'genre',\n",
       "       'gross sales', 'publisher revenue', 'sale price', 'sales rank',\n",
       "       'Publisher ', 'units sold'],\n",
       "      dtype='object')"
      ]
     },
     "execution_count": 105,
     "metadata": {},
     "output_type": "execute_result"
    }
   ],
   "source": [
    "data.columns"
   ]
  },
  {
   "cell_type": "code",
   "execution_count": 108,
   "id": "a641772c-dff6-417a-814c-5938bec7d0ec",
   "metadata": {},
   "outputs": [
    {
     "name": "stderr",
     "output_type": "stream",
     "text": [
      "C:\\Users\\User\\AppData\\Local\\Temp\\ipykernel_13880\\1753794597.py:1: FutureWarning: \n",
      "\n",
      "Passing `palette` without assigning `hue` is deprecated and will be removed in v0.14.0. Assign the `x` variable to `hue` and set `legend=False` for the same effect.\n",
      "\n",
      "  sns.boxplot(x='Author_Rating',y='units sold',data=data,palette='gist_rainbow')\n"
     ]
    },
    {
     "data": {
      "image/png": "[encoded data removed]",
      "text/plain": [
       "<Figure size 640x480 with 1 Axes>"
      ]
     },
     "metadata": {},
     "output_type": "display_data"
    }
   ],
   "source": [
    "sns.boxplot(x='Author_Rating',y='units sold',data=data,palette='gist_rainbow')\n",
    "plt.title('Box plot for units sold for each Author')\n",
    "plt.show()"
   ]
  },
  {
   "cell_type": "code",
   "execution_count": 114,
   "id": "2b07c89a-1c25-4b20-9cc9-fafd4ffb30a2",
   "metadata": {},
   "outputs": [],
   "source": [
    "Publishing_Year_highest=data.groupby('Publishing Year')['units sold'].sum().sort_values(ascending=False).head(20)"
   ]
  },
  {
   "cell_type": "code",
   "execution_count": 115,
   "id": "8da3147d-6ef6-423d-8308-e706f1f99d97",
   "metadata": {},
   "outputs": [],
   "source": [
    "Publishing_Year_lowest=data.groupby('Publishing Year')['units sold'].sum().sort_values(ascending=False).tail(20)"
   ]
  },
  {
   "cell_type": "code",
   "execution_count": 117,
   "id": "2f77e9ce-12b9-43cb-bf16-072c11cb9374",
   "metadata": {},
   "outputs": [
    {
     "data": {
      "image/png": "[encoded data removed]",
      "text/plain": [
       "<Figure size 640x480 with 1 Axes>"
      ]
     },
     "metadata": {},
     "output_type": "display_data"
    }
   ],
   "source": [
    "data.groupby('Publishing Year')['units sold'].sum().plot(kind='line',marker='o')\n",
    "plt.xlabel('Publishing Year')\n",
    "plt.ylabel('Total units sold')\n",
    "plt.title('Total units sold over the years')\n",
    "plt.show()"
   ]
  },
  {
   "cell_type": "code",
   "execution_count": null,
   "id": "05cb9f99-5fb2-4e39-a964-e1778d6292f2",
   "metadata": {},
   "outputs": [],
   "source": []
  }
 ],
 "metadata": {
  "kernelspec": {
   "display_name": "Python 3 (ipykernel)",
   "language": "python",
   "name": "python3"
  },
  "language_info": {
   "codemirror_mode": {
    "name": "ipython",
    "version": 3
   },
   "file_extension": ".py",
   "mimetype": "text/x-python",
   "name": "python",
   "nbconvert_exporter": "python",
   "pygments_lexer": "ipython3",
   "version": "3.11.5"
  }
 },
 "nbformat": 4,
 "nbformat_minor": 5
}
